{
 "cells": [
  {
   "cell_type": "markdown",
   "id": "f392e878",
   "metadata": {},
   "source": [
    "https://www.kaggle.com/c/learnplatform-covid19-impact-on-digital-learning/overview\n",
    "## LearnPlatform COVID-19 Impact on Digital Learning\n",
    "Use digital learning data to analyze the impact of COVID-19 on student learning"
   ]
  },
  {
   "cell_type": "markdown",
   "id": "36a7fe35",
   "metadata": {},
   "source": [
    "### Problem Statement\n",
    "The COVID-19 Pandemic has disrupted learning for more than 56 million students in the United States. In the Spring of 2020, most states and local governments across the U.S. closed educational institutions to stop the spread of the virus. In response, schools and teachers have attempted to reach students remotely through distance learning tools and digital platforms. Until today, concerns of the exacaberting digital divide and long-term learning loss among America’s most vulnerable learners continue to grow.\n",
    "\n",
    "Challenge\n",
    "We challenge the Kaggle community to explore (1) the state of digital learning in 2020 and (2) how the engagement of digital learning relates to factors such as district demographics, broadband access, and state/national level policies and events.\n",
    "\n",
    "We encourage you to guide the analysis with questions that are related to the themes that are described above (in bold font). Below are some examples of questions that relate to our problem statement:\n",
    "\n",
    "What is the picture of digital connectivity and engagement in 2020?\n",
    "What is the effect of the COVID-19 pandemic on online and distance learning, and how might this also evolve in the future?\n",
    "How does student engagement with different types of education technology change over the course of the pandemic?\n",
    "How does student engagement with online learning platforms relate to different geography? Demographic context (e.g., race/ethnicity, ESL, learning disability)? Learning context? Socioeconomic status?\n",
    "Do certain state interventions, practices or policies (e.g., stimulus, reopening, eviction moratorium) correlate with the increase or decrease online engagement?\n"
   ]
  },
  {
   "cell_type": "code",
   "execution_count": 1,
   "id": "6b2a9807",
   "metadata": {},
   "outputs": [],
   "source": [
    "import numpy as np\n",
    "import pandas as pd\n",
    "import seaborn as sns\n",
    "import matplotlib as plt"
   ]
  },
  {
   "cell_type": "code",
   "execution_count": 2,
   "id": "0e099244",
   "metadata": {},
   "outputs": [
    {
     "data": {
      "text/html": [
       "<div>\n",
       "<style scoped>\n",
       "    .dataframe tbody tr th:only-of-type {\n",
       "        vertical-align: middle;\n",
       "    }\n",
       "\n",
       "    .dataframe tbody tr th {\n",
       "        vertical-align: top;\n",
       "    }\n",
       "\n",
       "    .dataframe thead th {\n",
       "        text-align: right;\n",
       "    }\n",
       "</style>\n",
       "<table border=\"1\" class=\"dataframe\">\n",
       "  <thead>\n",
       "    <tr style=\"text-align: right;\">\n",
       "      <th></th>\n",
       "      <th>LP ID</th>\n",
       "      <th>URL</th>\n",
       "      <th>Product Name</th>\n",
       "      <th>Provider/Company Name</th>\n",
       "      <th>Sector(s)</th>\n",
       "      <th>Primary Essential Function</th>\n",
       "    </tr>\n",
       "  </thead>\n",
       "  <tbody>\n",
       "    <tr>\n",
       "      <th>0</th>\n",
       "      <td>13117</td>\n",
       "      <td>https://www.splashmath.com</td>\n",
       "      <td>SplashLearn</td>\n",
       "      <td>StudyPad Inc.</td>\n",
       "      <td>PreK-12</td>\n",
       "      <td>LC - Digital Learning Platforms</td>\n",
       "    </tr>\n",
       "    <tr>\n",
       "      <th>1</th>\n",
       "      <td>66933</td>\n",
       "      <td>https://abcmouse.com</td>\n",
       "      <td>ABCmouse.com</td>\n",
       "      <td>Age of Learning, Inc</td>\n",
       "      <td>PreK-12</td>\n",
       "      <td>LC - Digital Learning Platforms</td>\n",
       "    </tr>\n",
       "    <tr>\n",
       "      <th>2</th>\n",
       "      <td>50479</td>\n",
       "      <td>https://www.abcya.com</td>\n",
       "      <td>ABCya!</td>\n",
       "      <td>ABCya.com, LLC</td>\n",
       "      <td>PreK-12</td>\n",
       "      <td>LC - Sites, Resources &amp; Reference - Games &amp; Si...</td>\n",
       "    </tr>\n",
       "    <tr>\n",
       "      <th>3</th>\n",
       "      <td>92993</td>\n",
       "      <td>http://www.aleks.com/</td>\n",
       "      <td>ALEKS</td>\n",
       "      <td>McGraw-Hill PreK-12</td>\n",
       "      <td>PreK-12; Higher Ed</td>\n",
       "      <td>LC - Digital Learning Platforms</td>\n",
       "    </tr>\n",
       "    <tr>\n",
       "      <th>4</th>\n",
       "      <td>73104</td>\n",
       "      <td>https://www.achieve3000.com/</td>\n",
       "      <td>Achieve3000</td>\n",
       "      <td>Achieve3000</td>\n",
       "      <td>PreK-12</td>\n",
       "      <td>LC - Digital Learning Platforms</td>\n",
       "    </tr>\n",
       "  </tbody>\n",
       "</table>\n",
       "</div>"
      ],
      "text/plain": [
       "   LP ID                           URL  Product Name  Provider/Company Name  \\\n",
       "0  13117    https://www.splashmath.com   SplashLearn          StudyPad Inc.   \n",
       "1  66933          https://abcmouse.com  ABCmouse.com  Age of Learning, Inc    \n",
       "2  50479         https://www.abcya.com        ABCya!         ABCya.com, LLC   \n",
       "3  92993         http://www.aleks.com/         ALEKS    McGraw-Hill PreK-12   \n",
       "4  73104  https://www.achieve3000.com/   Achieve3000            Achieve3000   \n",
       "\n",
       "            Sector(s)                         Primary Essential Function  \n",
       "0             PreK-12                    LC - Digital Learning Platforms  \n",
       "1             PreK-12                    LC - Digital Learning Platforms  \n",
       "2             PreK-12  LC - Sites, Resources & Reference - Games & Si...  \n",
       "3  PreK-12; Higher Ed                    LC - Digital Learning Platforms  \n",
       "4             PreK-12                    LC - Digital Learning Platforms  "
      ]
     },
     "execution_count": 2,
     "metadata": {},
     "output_type": "execute_result"
    }
   ],
   "source": [
    "df2 = pd.read_csv('products_info.csv')\n",
    "df2.head()"
   ]
  },
  {
   "cell_type": "code",
   "execution_count": 3,
   "id": "77d2181e",
   "metadata": {},
   "outputs": [
    {
     "data": {
      "text/html": [
       "<div>\n",
       "<style scoped>\n",
       "    .dataframe tbody tr th:only-of-type {\n",
       "        vertical-align: middle;\n",
       "    }\n",
       "\n",
       "    .dataframe tbody tr th {\n",
       "        vertical-align: top;\n",
       "    }\n",
       "\n",
       "    .dataframe thead th {\n",
       "        text-align: right;\n",
       "    }\n",
       "</style>\n",
       "<table border=\"1\" class=\"dataframe\">\n",
       "  <thead>\n",
       "    <tr style=\"text-align: right;\">\n",
       "      <th></th>\n",
       "      <th>district_id</th>\n",
       "      <th>state</th>\n",
       "      <th>locale</th>\n",
       "      <th>pct_black/hispanic</th>\n",
       "      <th>pct_free/reduced</th>\n",
       "      <th>county_connections_ratio</th>\n",
       "      <th>pp_total_raw</th>\n",
       "    </tr>\n",
       "  </thead>\n",
       "  <tbody>\n",
       "    <tr>\n",
       "      <th>0</th>\n",
       "      <td>8815</td>\n",
       "      <td>Illinois</td>\n",
       "      <td>Suburb</td>\n",
       "      <td>[0, 0.2[</td>\n",
       "      <td>[0, 0.2[</td>\n",
       "      <td>[0.18, 1[</td>\n",
       "      <td>[14000, 16000[</td>\n",
       "    </tr>\n",
       "    <tr>\n",
       "      <th>1</th>\n",
       "      <td>2685</td>\n",
       "      <td>NaN</td>\n",
       "      <td>NaN</td>\n",
       "      <td>NaN</td>\n",
       "      <td>NaN</td>\n",
       "      <td>NaN</td>\n",
       "      <td>NaN</td>\n",
       "    </tr>\n",
       "    <tr>\n",
       "      <th>2</th>\n",
       "      <td>4921</td>\n",
       "      <td>Utah</td>\n",
       "      <td>Suburb</td>\n",
       "      <td>[0, 0.2[</td>\n",
       "      <td>[0.2, 0.4[</td>\n",
       "      <td>[0.18, 1[</td>\n",
       "      <td>[6000, 8000[</td>\n",
       "    </tr>\n",
       "    <tr>\n",
       "      <th>3</th>\n",
       "      <td>3188</td>\n",
       "      <td>NaN</td>\n",
       "      <td>NaN</td>\n",
       "      <td>NaN</td>\n",
       "      <td>NaN</td>\n",
       "      <td>NaN</td>\n",
       "      <td>NaN</td>\n",
       "    </tr>\n",
       "    <tr>\n",
       "      <th>4</th>\n",
       "      <td>2238</td>\n",
       "      <td>NaN</td>\n",
       "      <td>NaN</td>\n",
       "      <td>NaN</td>\n",
       "      <td>NaN</td>\n",
       "      <td>NaN</td>\n",
       "      <td>NaN</td>\n",
       "    </tr>\n",
       "  </tbody>\n",
       "</table>\n",
       "</div>"
      ],
      "text/plain": [
       "   district_id     state  locale pct_black/hispanic pct_free/reduced  \\\n",
       "0         8815  Illinois  Suburb           [0, 0.2[         [0, 0.2[   \n",
       "1         2685       NaN     NaN                NaN              NaN   \n",
       "2         4921      Utah  Suburb           [0, 0.2[       [0.2, 0.4[   \n",
       "3         3188       NaN     NaN                NaN              NaN   \n",
       "4         2238       NaN     NaN                NaN              NaN   \n",
       "\n",
       "  county_connections_ratio    pp_total_raw  \n",
       "0                [0.18, 1[  [14000, 16000[  \n",
       "1                      NaN             NaN  \n",
       "2                [0.18, 1[    [6000, 8000[  \n",
       "3                      NaN             NaN  \n",
       "4                      NaN             NaN  "
      ]
     },
     "execution_count": 3,
     "metadata": {},
     "output_type": "execute_result"
    }
   ],
   "source": [
    "df1 = pd.read_csv('districts_info.csv')\n",
    "df1.head()"
   ]
  },
  {
   "cell_type": "code",
   "execution_count": 4,
   "id": "96710938",
   "metadata": {},
   "outputs": [
    {
     "data": {
      "text/plain": [
       "(233, 7)"
      ]
     },
     "execution_count": 4,
     "metadata": {},
     "output_type": "execute_result"
    }
   ],
   "source": [
    "df1.shape"
   ]
  },
  {
   "cell_type": "code",
   "execution_count": 5,
   "id": "070b12ab",
   "metadata": {},
   "outputs": [
    {
     "data": {
      "text/plain": [
       "array(['Illinois', nan, 'Utah', 'Wisconsin', 'North Carolina', 'Missouri',\n",
       "       'Washington', 'Connecticut', 'Massachusetts', 'New York',\n",
       "       'Indiana', 'Virginia', 'Ohio', 'New Jersey', 'California',\n",
       "       'District Of Columbia', 'Minnesota', 'Arizona', 'Texas',\n",
       "       'Tennessee', 'Florida', 'North Dakota', 'New Hampshire',\n",
       "       'Michigan'], dtype=object)"
      ]
     },
     "execution_count": 5,
     "metadata": {},
     "output_type": "execute_result"
    }
   ],
   "source": [
    "df1['state'].unique()"
   ]
  },
  {
   "cell_type": "code",
   "execution_count": 6,
   "id": "02468e61",
   "metadata": {},
   "outputs": [
    {
     "name": "stdout",
     "output_type": "stream",
     "text": [
      "<class 'pandas.core.frame.DataFrame'>\n",
      "RangeIndex: 233 entries, 0 to 232\n",
      "Data columns (total 7 columns):\n",
      " #   Column                    Non-Null Count  Dtype \n",
      "---  ------                    --------------  ----- \n",
      " 0   district_id               233 non-null    int64 \n",
      " 1   state                     176 non-null    object\n",
      " 2   locale                    176 non-null    object\n",
      " 3   pct_black/hispanic        176 non-null    object\n",
      " 4   pct_free/reduced          148 non-null    object\n",
      " 5   county_connections_ratio  162 non-null    object\n",
      " 6   pp_total_raw              118 non-null    object\n",
      "dtypes: int64(1), object(6)\n",
      "memory usage: 12.9+ KB\n"
     ]
    }
   ],
   "source": [
    "df1.info()"
   ]
  },
  {
   "cell_type": "code",
   "execution_count": 7,
   "id": "38e554f8",
   "metadata": {},
   "outputs": [
    {
     "data": {
      "text/plain": [
       "district_id                   0\n",
       "state                        57\n",
       "locale                       57\n",
       "pct_black/hispanic           57\n",
       "pct_free/reduced             85\n",
       "county_connections_ratio     71\n",
       "pp_total_raw                115\n",
       "dtype: int64"
      ]
     },
     "execution_count": 7,
     "metadata": {},
     "output_type": "execute_result"
    }
   ],
   "source": [
    "df1.isna().sum()"
   ]
  },
  {
   "cell_type": "code",
   "execution_count": 8,
   "id": "c19e6874",
   "metadata": {},
   "outputs": [
    {
     "data": {
      "text/html": [
       "<div>\n",
       "<style scoped>\n",
       "    .dataframe tbody tr th:only-of-type {\n",
       "        vertical-align: middle;\n",
       "    }\n",
       "\n",
       "    .dataframe tbody tr th {\n",
       "        vertical-align: top;\n",
       "    }\n",
       "\n",
       "    .dataframe thead th {\n",
       "        text-align: right;\n",
       "    }\n",
       "</style>\n",
       "<table border=\"1\" class=\"dataframe\">\n",
       "  <thead>\n",
       "    <tr style=\"text-align: right;\">\n",
       "      <th></th>\n",
       "      <th>district_id</th>\n",
       "    </tr>\n",
       "  </thead>\n",
       "  <tbody>\n",
       "    <tr>\n",
       "      <th>count</th>\n",
       "      <td>233.000000</td>\n",
       "    </tr>\n",
       "    <tr>\n",
       "      <th>mean</th>\n",
       "      <td>5219.776824</td>\n",
       "    </tr>\n",
       "    <tr>\n",
       "      <th>std</th>\n",
       "      <td>2595.751581</td>\n",
       "    </tr>\n",
       "    <tr>\n",
       "      <th>min</th>\n",
       "      <td>1000.000000</td>\n",
       "    </tr>\n",
       "    <tr>\n",
       "      <th>25%</th>\n",
       "      <td>2991.000000</td>\n",
       "    </tr>\n",
       "    <tr>\n",
       "      <th>50%</th>\n",
       "      <td>4937.000000</td>\n",
       "    </tr>\n",
       "    <tr>\n",
       "      <th>75%</th>\n",
       "      <td>7660.000000</td>\n",
       "    </tr>\n",
       "    <tr>\n",
       "      <th>max</th>\n",
       "      <td>9927.000000</td>\n",
       "    </tr>\n",
       "  </tbody>\n",
       "</table>\n",
       "</div>"
      ],
      "text/plain": [
       "       district_id\n",
       "count   233.000000\n",
       "mean   5219.776824\n",
       "std    2595.751581\n",
       "min    1000.000000\n",
       "25%    2991.000000\n",
       "50%    4937.000000\n",
       "75%    7660.000000\n",
       "max    9927.000000"
      ]
     },
     "execution_count": 8,
     "metadata": {},
     "output_type": "execute_result"
    }
   ],
   "source": [
    "df1.describe()"
   ]
  },
  {
   "cell_type": "code",
   "execution_count": 9,
   "id": "0708dbbf",
   "metadata": {},
   "outputs": [
    {
     "data": {
      "text/plain": [
       "array([ 5, 23, 19, 22, 14, 10, 21,  2,  7, 13,  6, 20, 16, 12,  1,  3,  9,\n",
       "        0, 18, 17,  4, 15, 11,  8])"
      ]
     },
     "execution_count": 9,
     "metadata": {},
     "output_type": "execute_result"
    }
   ],
   "source": [
    "from sklearn import preprocessing\n",
    "label_encoder = preprocessing.LabelEncoder()  \n",
    "df1['state']= label_encoder.fit_transform(df1['state'])  \n",
    "df1['state'].unique()"
   ]
  },
  {
   "cell_type": "code",
   "execution_count": 10,
   "id": "6af486ee",
   "metadata": {},
   "outputs": [
    {
     "data": {
      "text/plain": [
       "<AxesSubplot:>"
      ]
     },
     "execution_count": 10,
     "metadata": {},
     "output_type": "execute_result"
    },
    {
     "data": {
      "image/png": "[encoded data removed]",
      "text/plain": [
       "<Figure size 432x288 with 1 Axes>"
      ]
     },
     "metadata": {
      "needs_background": "light"
     },
     "output_type": "display_data"
    }
   ],
   "source": [
    "df1['state'].value_counts().plot(kind='bar')"
   ]
  },
  {
   "cell_type": "code",
   "execution_count": 11,
   "id": "397e8697",
   "metadata": {},
   "outputs": [
    {
     "data": {
      "text/plain": [
       "0"
      ]
     },
     "execution_count": 11,
     "metadata": {},
     "output_type": "execute_result"
    }
   ],
   "source": [
    "df1['state'].isnull().sum()"
   ]
  },
  {
   "cell_type": "code",
   "execution_count": 12,
   "id": "eebc683b",
   "metadata": {},
   "outputs": [],
   "source": [
    "new_df = df1.iloc[: , 3:7].copy() "
   ]
  },
  {
   "cell_type": "code",
   "execution_count": 13,
   "id": "f830ab95",
   "metadata": {},
   "outputs": [
    {
     "data": {
      "text/html": [
       "<div>\n",
       "<style scoped>\n",
       "    .dataframe tbody tr th:only-of-type {\n",
       "        vertical-align: middle;\n",
       "    }\n",
       "\n",
       "    .dataframe tbody tr th {\n",
       "        vertical-align: top;\n",
       "    }\n",
       "\n",
       "    .dataframe thead th {\n",
       "        text-align: right;\n",
       "    }\n",
       "</style>\n",
       "<table border=\"1\" class=\"dataframe\">\n",
       "  <thead>\n",
       "    <tr style=\"text-align: right;\">\n",
       "      <th></th>\n",
       "      <th>pct_black/hispanic</th>\n",
       "      <th>pct_free/reduced</th>\n",
       "      <th>county_connections_ratio</th>\n",
       "      <th>pp_total_raw</th>\n",
       "    </tr>\n",
       "  </thead>\n",
       "  <tbody>\n",
       "    <tr>\n",
       "      <th>0</th>\n",
       "      <td>[0, 0.2[</td>\n",
       "      <td>[0, 0.2[</td>\n",
       "      <td>[0.18, 1[</td>\n",
       "      <td>[14000, 16000[</td>\n",
       "    </tr>\n",
       "    <tr>\n",
       "      <th>1</th>\n",
       "      <td>NaN</td>\n",
       "      <td>NaN</td>\n",
       "      <td>NaN</td>\n",
       "      <td>NaN</td>\n",
       "    </tr>\n",
       "    <tr>\n",
       "      <th>2</th>\n",
       "      <td>[0, 0.2[</td>\n",
       "      <td>[0.2, 0.4[</td>\n",
       "      <td>[0.18, 1[</td>\n",
       "      <td>[6000, 8000[</td>\n",
       "    </tr>\n",
       "    <tr>\n",
       "      <th>3</th>\n",
       "      <td>NaN</td>\n",
       "      <td>NaN</td>\n",
       "      <td>NaN</td>\n",
       "      <td>NaN</td>\n",
       "    </tr>\n",
       "    <tr>\n",
       "      <th>4</th>\n",
       "      <td>NaN</td>\n",
       "      <td>NaN</td>\n",
       "      <td>NaN</td>\n",
       "      <td>NaN</td>\n",
       "    </tr>\n",
       "  </tbody>\n",
       "</table>\n",
       "</div>"
      ],
      "text/plain": [
       "  pct_black/hispanic pct_free/reduced county_connections_ratio    pp_total_raw\n",
       "0           [0, 0.2[         [0, 0.2[                [0.18, 1[  [14000, 16000[\n",
       "1                NaN              NaN                      NaN             NaN\n",
       "2           [0, 0.2[       [0.2, 0.4[                [0.18, 1[    [6000, 8000[\n",
       "3                NaN              NaN                      NaN             NaN\n",
       "4                NaN              NaN                      NaN             NaN"
      ]
     },
     "execution_count": 13,
     "metadata": {},
     "output_type": "execute_result"
    }
   ],
   "source": [
    "new_df.head()"
   ]
  },
  {
   "cell_type": "code",
   "execution_count": 14,
   "id": "81e9a02f",
   "metadata": {},
   "outputs": [
    {
     "data": {
      "text/html": [
       "<div>\n",
       "<style scoped>\n",
       "    .dataframe tbody tr th:only-of-type {\n",
       "        vertical-align: middle;\n",
       "    }\n",
       "\n",
       "    .dataframe tbody tr th {\n",
       "        vertical-align: top;\n",
       "    }\n",
       "\n",
       "    .dataframe thead th {\n",
       "        text-align: right;\n",
       "    }\n",
       "</style>\n",
       "<table border=\"1\" class=\"dataframe\">\n",
       "  <thead>\n",
       "    <tr style=\"text-align: right;\">\n",
       "      <th></th>\n",
       "      <th>pct_black</th>\n",
       "      <th>hispanic</th>\n",
       "    </tr>\n",
       "  </thead>\n",
       "  <tbody>\n",
       "    <tr>\n",
       "      <th>0</th>\n",
       "      <td>0</td>\n",
       "      <td>0.2</td>\n",
       "    </tr>\n",
       "    <tr>\n",
       "      <th>1</th>\n",
       "      <td>NaN</td>\n",
       "      <td>NaN</td>\n",
       "    </tr>\n",
       "    <tr>\n",
       "      <th>2</th>\n",
       "      <td>0</td>\n",
       "      <td>0.2</td>\n",
       "    </tr>\n",
       "    <tr>\n",
       "      <th>3</th>\n",
       "      <td>NaN</td>\n",
       "      <td>NaN</td>\n",
       "    </tr>\n",
       "    <tr>\n",
       "      <th>4</th>\n",
       "      <td>NaN</td>\n",
       "      <td>NaN</td>\n",
       "    </tr>\n",
       "  </tbody>\n",
       "</table>\n",
       "</div>"
      ],
      "text/plain": [
       "  pct_black hispanic\n",
       "0         0      0.2\n",
       "1       NaN      NaN\n",
       "2         0      0.2\n",
       "3       NaN      NaN\n",
       "4       NaN      NaN"
      ]
     },
     "execution_count": 14,
     "metadata": {},
     "output_type": "execute_result"
    }
   ],
   "source": [
    "df1['pct_black/hispanic'] = df1['pct_black/hispanic'].str.strip('[')\n",
    "df1[['pct_black', 'hispanic']] = df1['pct_black/hispanic'].str.split(',', expand=True)\n",
    "df1[['pct_black', 'hispanic']].head()"
   ]
  },
  {
   "cell_type": "code",
   "execution_count": 15,
   "id": "3e3d278f",
   "metadata": {},
   "outputs": [
    {
     "data": {
      "text/html": [
       "<div>\n",
       "<style scoped>\n",
       "    .dataframe tbody tr th:only-of-type {\n",
       "        vertical-align: middle;\n",
       "    }\n",
       "\n",
       "    .dataframe tbody tr th {\n",
       "        vertical-align: top;\n",
       "    }\n",
       "\n",
       "    .dataframe thead th {\n",
       "        text-align: right;\n",
       "    }\n",
       "</style>\n",
       "<table border=\"1\" class=\"dataframe\">\n",
       "  <thead>\n",
       "    <tr style=\"text-align: right;\">\n",
       "      <th></th>\n",
       "      <th>pct_free</th>\n",
       "      <th>reduced</th>\n",
       "    </tr>\n",
       "  </thead>\n",
       "  <tbody>\n",
       "    <tr>\n",
       "      <th>0</th>\n",
       "      <td>0</td>\n",
       "      <td>0.2</td>\n",
       "    </tr>\n",
       "    <tr>\n",
       "      <th>1</th>\n",
       "      <td>NaN</td>\n",
       "      <td>NaN</td>\n",
       "    </tr>\n",
       "    <tr>\n",
       "      <th>2</th>\n",
       "      <td>0.2</td>\n",
       "      <td>0.4</td>\n",
       "    </tr>\n",
       "    <tr>\n",
       "      <th>3</th>\n",
       "      <td>NaN</td>\n",
       "      <td>NaN</td>\n",
       "    </tr>\n",
       "    <tr>\n",
       "      <th>4</th>\n",
       "      <td>NaN</td>\n",
       "      <td>NaN</td>\n",
       "    </tr>\n",
       "  </tbody>\n",
       "</table>\n",
       "</div>"
      ],
      "text/plain": [
       "  pct_free reduced\n",
       "0        0     0.2\n",
       "1      NaN     NaN\n",
       "2      0.2     0.4\n",
       "3      NaN     NaN\n",
       "4      NaN     NaN"
      ]
     },
     "execution_count": 15,
     "metadata": {},
     "output_type": "execute_result"
    }
   ],
   "source": [
    "df1['pct_free/reduced'] = df1['pct_free/reduced'].str.strip('[')\n",
    "df1[['pct_free','reduced']] = df1['pct_free/reduced'].str.split(',', expand=True)\n",
    "df1[['pct_free','reduced']].head()"
   ]
  },
  {
   "cell_type": "code",
   "execution_count": 16,
   "id": "4e2cd697",
   "metadata": {},
   "outputs": [
    {
     "data": {
      "text/html": [
       "<div>\n",
       "<style scoped>\n",
       "    .dataframe tbody tr th:only-of-type {\n",
       "        vertical-align: middle;\n",
       "    }\n",
       "\n",
       "    .dataframe tbody tr th {\n",
       "        vertical-align: top;\n",
       "    }\n",
       "\n",
       "    .dataframe thead th {\n",
       "        text-align: right;\n",
       "    }\n",
       "</style>\n",
       "<table border=\"1\" class=\"dataframe\">\n",
       "  <thead>\n",
       "    <tr style=\"text-align: right;\">\n",
       "      <th></th>\n",
       "      <th>Country1</th>\n",
       "      <th>Country2</th>\n",
       "    </tr>\n",
       "  </thead>\n",
       "  <tbody>\n",
       "    <tr>\n",
       "      <th>0</th>\n",
       "      <td>0.18</td>\n",
       "      <td>1</td>\n",
       "    </tr>\n",
       "    <tr>\n",
       "      <th>1</th>\n",
       "      <td>NaN</td>\n",
       "      <td>NaN</td>\n",
       "    </tr>\n",
       "    <tr>\n",
       "      <th>2</th>\n",
       "      <td>0.18</td>\n",
       "      <td>1</td>\n",
       "    </tr>\n",
       "    <tr>\n",
       "      <th>3</th>\n",
       "      <td>NaN</td>\n",
       "      <td>NaN</td>\n",
       "    </tr>\n",
       "    <tr>\n",
       "      <th>4</th>\n",
       "      <td>NaN</td>\n",
       "      <td>NaN</td>\n",
       "    </tr>\n",
       "  </tbody>\n",
       "</table>\n",
       "</div>"
      ],
      "text/plain": [
       "  Country1 Country2\n",
       "0     0.18        1\n",
       "1      NaN      NaN\n",
       "2     0.18        1\n",
       "3      NaN      NaN\n",
       "4      NaN      NaN"
      ]
     },
     "execution_count": 16,
     "metadata": {},
     "output_type": "execute_result"
    }
   ],
   "source": [
    "df1['county_connections_ratio'] = df1['county_connections_ratio'].str.strip('[')\n",
    "df1[['Country1','Country2']] = df1['county_connections_ratio'].str.split(',', expand=True)\n",
    "df1[['Country1','Country2']].head()"
   ]
  },
  {
   "cell_type": "code",
   "execution_count": 17,
   "id": "7db67abf",
   "metadata": {},
   "outputs": [
    {
     "data": {
      "text/html": [
       "<div>\n",
       "<style scoped>\n",
       "    .dataframe tbody tr th:only-of-type {\n",
       "        vertical-align: middle;\n",
       "    }\n",
       "\n",
       "    .dataframe tbody tr th {\n",
       "        vertical-align: top;\n",
       "    }\n",
       "\n",
       "    .dataframe thead th {\n",
       "        text-align: right;\n",
       "    }\n",
       "</style>\n",
       "<table border=\"1\" class=\"dataframe\">\n",
       "  <thead>\n",
       "    <tr style=\"text-align: right;\">\n",
       "      <th></th>\n",
       "      <th>local_exp</th>\n",
       "      <th>federal_exp</th>\n",
       "    </tr>\n",
       "  </thead>\n",
       "  <tbody>\n",
       "    <tr>\n",
       "      <th>0</th>\n",
       "      <td>14000</td>\n",
       "      <td>16000</td>\n",
       "    </tr>\n",
       "    <tr>\n",
       "      <th>1</th>\n",
       "      <td>NaN</td>\n",
       "      <td>NaN</td>\n",
       "    </tr>\n",
       "    <tr>\n",
       "      <th>2</th>\n",
       "      <td>6000</td>\n",
       "      <td>8000</td>\n",
       "    </tr>\n",
       "    <tr>\n",
       "      <th>3</th>\n",
       "      <td>NaN</td>\n",
       "      <td>NaN</td>\n",
       "    </tr>\n",
       "    <tr>\n",
       "      <th>4</th>\n",
       "      <td>NaN</td>\n",
       "      <td>NaN</td>\n",
       "    </tr>\n",
       "  </tbody>\n",
       "</table>\n",
       "</div>"
      ],
      "text/plain": [
       "  local_exp federal_exp\n",
       "0     14000       16000\n",
       "1       NaN         NaN\n",
       "2      6000        8000\n",
       "3       NaN         NaN\n",
       "4       NaN         NaN"
      ]
     },
     "execution_count": 17,
     "metadata": {},
     "output_type": "execute_result"
    }
   ],
   "source": [
    "df1['pp_total_raw'] = df1['pp_total_raw'].str.strip('[')\n",
    "df1[['local_exp','federal_exp']] = df1['pp_total_raw'].str.split(',', expand=True)\n",
    "df1[['local_exp','federal_exp']].head()"
   ]
  },
  {
   "cell_type": "code",
   "execution_count": 18,
   "id": "d6121162",
   "metadata": {},
   "outputs": [
    {
     "data": {
      "text/html": [
       "<div>\n",
       "<style scoped>\n",
       "    .dataframe tbody tr th:only-of-type {\n",
       "        vertical-align: middle;\n",
       "    }\n",
       "\n",
       "    .dataframe tbody tr th {\n",
       "        vertical-align: top;\n",
       "    }\n",
       "\n",
       "    .dataframe thead th {\n",
       "        text-align: right;\n",
       "    }\n",
       "</style>\n",
       "<table border=\"1\" class=\"dataframe\">\n",
       "  <thead>\n",
       "    <tr style=\"text-align: right;\">\n",
       "      <th></th>\n",
       "      <th>state</th>\n",
       "      <th>pct_black</th>\n",
       "      <th>hispanic</th>\n",
       "      <th>pct_free</th>\n",
       "      <th>reduced</th>\n",
       "      <th>Country1</th>\n",
       "      <th>Country2</th>\n",
       "      <th>local_exp</th>\n",
       "      <th>federal_exp</th>\n",
       "    </tr>\n",
       "  </thead>\n",
       "  <tbody>\n",
       "    <tr>\n",
       "      <th>0</th>\n",
       "      <td>5</td>\n",
       "      <td>0</td>\n",
       "      <td>0.2</td>\n",
       "      <td>0</td>\n",
       "      <td>0.2</td>\n",
       "      <td>0.18</td>\n",
       "      <td>1</td>\n",
       "      <td>14000</td>\n",
       "      <td>16000</td>\n",
       "    </tr>\n",
       "    <tr>\n",
       "      <th>1</th>\n",
       "      <td>23</td>\n",
       "      <td>NaN</td>\n",
       "      <td>NaN</td>\n",
       "      <td>NaN</td>\n",
       "      <td>NaN</td>\n",
       "      <td>NaN</td>\n",
       "      <td>NaN</td>\n",
       "      <td>NaN</td>\n",
       "      <td>NaN</td>\n",
       "    </tr>\n",
       "    <tr>\n",
       "      <th>2</th>\n",
       "      <td>19</td>\n",
       "      <td>0</td>\n",
       "      <td>0.2</td>\n",
       "      <td>0.2</td>\n",
       "      <td>0.4</td>\n",
       "      <td>0.18</td>\n",
       "      <td>1</td>\n",
       "      <td>6000</td>\n",
       "      <td>8000</td>\n",
       "    </tr>\n",
       "    <tr>\n",
       "      <th>3</th>\n",
       "      <td>23</td>\n",
       "      <td>NaN</td>\n",
       "      <td>NaN</td>\n",
       "      <td>NaN</td>\n",
       "      <td>NaN</td>\n",
       "      <td>NaN</td>\n",
       "      <td>NaN</td>\n",
       "      <td>NaN</td>\n",
       "      <td>NaN</td>\n",
       "    </tr>\n",
       "    <tr>\n",
       "      <th>4</th>\n",
       "      <td>23</td>\n",
       "      <td>NaN</td>\n",
       "      <td>NaN</td>\n",
       "      <td>NaN</td>\n",
       "      <td>NaN</td>\n",
       "      <td>NaN</td>\n",
       "      <td>NaN</td>\n",
       "      <td>NaN</td>\n",
       "      <td>NaN</td>\n",
       "    </tr>\n",
       "  </tbody>\n",
       "</table>\n",
       "</div>"
      ],
      "text/plain": [
       "   state pct_black hispanic pct_free reduced Country1 Country2 local_exp  \\\n",
       "0      5         0      0.2        0     0.2     0.18        1     14000   \n",
       "1     23       NaN      NaN      NaN     NaN      NaN      NaN       NaN   \n",
       "2     19         0      0.2      0.2     0.4     0.18        1      6000   \n",
       "3     23       NaN      NaN      NaN     NaN      NaN      NaN       NaN   \n",
       "4     23       NaN      NaN      NaN     NaN      NaN      NaN       NaN   \n",
       "\n",
       "  federal_exp  \n",
       "0       16000  \n",
       "1         NaN  \n",
       "2        8000  \n",
       "3         NaN  \n",
       "4         NaN  "
      ]
     },
     "execution_count": 18,
     "metadata": {},
     "output_type": "execute_result"
    }
   ],
   "source": [
    "#'pct_black', 'hispanic11','pct_free','reduced','Country1','Country2','local_exp','federal_exp'],axis=1)\n",
    "df= df1.drop(['district_id','locale','pct_black/hispanic','pct_free/reduced','county_connections_ratio','pp_total_raw'],axis=1)\n",
    "df.head()"
   ]
  },
  {
   "cell_type": "code",
   "execution_count": 19,
   "id": "38b8d7ab",
   "metadata": {},
   "outputs": [
    {
     "name": "stdout",
     "output_type": "stream",
     "text": [
      "<class 'pandas.core.frame.DataFrame'>\n",
      "RangeIndex: 233 entries, 0 to 232\n",
      "Data columns (total 9 columns):\n",
      " #   Column       Non-Null Count  Dtype \n",
      "---  ------       --------------  ----- \n",
      " 0   state        233 non-null    int32 \n",
      " 1   pct_black    176 non-null    object\n",
      " 2   hispanic     176 non-null    object\n",
      " 3   pct_free     148 non-null    object\n",
      " 4   reduced      148 non-null    object\n",
      " 5   Country1     162 non-null    object\n",
      " 6   Country2     162 non-null    object\n",
      " 7   local_exp    118 non-null    object\n",
      " 8   federal_exp  118 non-null    object\n",
      "dtypes: int32(1), object(8)\n",
      "memory usage: 15.6+ KB\n"
     ]
    }
   ],
   "source": [
    "df.info()"
   ]
  },
  {
   "cell_type": "code",
   "execution_count": 20,
   "id": "66f749a8",
   "metadata": {},
   "outputs": [],
   "source": [
    "df['hispanic']=pd.to_numeric(df['hispanic'])\n",
    "df['pct_black']=pd.to_numeric(df['pct_black'])\n",
    "df['reduced']=pd.to_numeric(df['reduced'])\n",
    "df['pct_free']=pd.to_numeric(df['pct_free'])\n",
    "df['Country1']=pd.to_numeric(df['Country1'])\n",
    "df['Country2']=pd.to_numeric(df['Country2'])\n",
    "df['local_exp']=pd.to_numeric(df['local_exp'])\n",
    "df['federal_exp']=pd.to_numeric(df['federal_exp'])"
   ]
  },
  {
   "cell_type": "markdown",
   "id": "aff907c5",
   "metadata": {},
   "source": [
    "### df['hispanic']"
   ]
  },
  {
   "cell_type": "code",
   "execution_count": 21,
   "id": "0bbcfdfa",
   "metadata": {},
   "outputs": [
    {
     "name": "stderr",
     "output_type": "stream",
     "text": [
      "E:\\Anaconda\\lib\\site-packages\\seaborn\\distributions.py:2557: FutureWarning: `distplot` is a deprecated function and will be removed in a future version. Please adapt your code to use either `displot` (a figure-level function with similar flexibility) or `histplot` (an axes-level function for histograms).\n",
      "  warnings.warn(msg, FutureWarning)\n"
     ]
    },
    {
     "data": {
      "text/plain": [
       "<AxesSubplot:xlabel='hispanic', ylabel='Density'>"
      ]
     },
     "execution_count": 21,
     "metadata": {},
     "output_type": "execute_result"
    },
    {
     "data": {
      "image/png": "[encoded data removed]",
      "text/plain": [
       "<Figure size 432x288 with 1 Axes>"
      ]
     },
     "metadata": {
      "needs_background": "light"
     },
     "output_type": "display_data"
    }
   ],
   "source": [
    "sns.distplot(df['hispanic'])  "
   ]
  },
  {
   "cell_type": "code",
   "execution_count": 22,
   "id": "c1134b80",
   "metadata": {},
   "outputs": [],
   "source": [
    "df['hispanic']= df['hispanic'].fillna(df['hispanic'].mean())"
   ]
  },
  {
   "cell_type": "code",
   "execution_count": 23,
   "id": "0167c3e5",
   "metadata": {},
   "outputs": [],
   "source": [
    "df['hispanic'].skew()\n",
    "df['hispanic'] =np.log(df['hispanic'])"
   ]
  },
  {
   "cell_type": "code",
   "execution_count": 24,
   "id": "f1bd4e32",
   "metadata": {},
   "outputs": [
    {
     "data": {
      "text/plain": [
       "<AxesSubplot:>"
      ]
     },
     "execution_count": 24,
     "metadata": {},
     "output_type": "execute_result"
    },
    {
     "data": {
      "image/png": "[encoded data removed]",
      "text/plain": [
       "<Figure size 432x288 with 1 Axes>"
      ]
     },
     "metadata": {
      "needs_background": "light"
     },
     "output_type": "display_data"
    }
   ],
   "source": [
    "df.boxplot(column='hispanic')"
   ]
  },
  {
   "cell_type": "markdown",
   "id": "cdb542c2",
   "metadata": {},
   "source": [
    "## df['pct_black']"
   ]
  },
  {
   "cell_type": "code",
   "execution_count": 25,
   "id": "66ff7fb4",
   "metadata": {},
   "outputs": [
    {
     "data": {
      "text/plain": [
       "0.0    116\n",
       "0.2     24\n",
       "0.4     17\n",
       "0.6     11\n",
       "0.8      8\n",
       "Name: pct_black, dtype: int64"
      ]
     },
     "execution_count": 25,
     "metadata": {},
     "output_type": "execute_result"
    }
   ],
   "source": [
    "df['pct_black']=pd.to_numeric(df['pct_black'])\n",
    "df['pct_black'].value_counts()"
   ]
  },
  {
   "cell_type": "code",
   "execution_count": 26,
   "id": "234f366c",
   "metadata": {},
   "outputs": [
    {
     "data": {
      "text/plain": [
       "<AxesSubplot:>"
      ]
     },
     "execution_count": 26,
     "metadata": {},
     "output_type": "execute_result"
    },
    {
     "data": {
      "image/png": "[encoded data removed]",
      "text/plain": [
       "<Figure size 432x288 with 1 Axes>"
      ]
     },
     "metadata": {
      "needs_background": "light"
     },
     "output_type": "display_data"
    }
   ],
   "source": [
    "df.boxplot(column='pct_black')"
   ]
  },
  {
   "cell_type": "code",
   "execution_count": 27,
   "id": "feda3bf7",
   "metadata": {},
   "outputs": [
    {
     "name": "stderr",
     "output_type": "stream",
     "text": [
      "E:\\Anaconda\\lib\\site-packages\\seaborn\\distributions.py:2557: FutureWarning: `distplot` is a deprecated function and will be removed in a future version. Please adapt your code to use either `displot` (a figure-level function with similar flexibility) or `histplot` (an axes-level function for histograms).\n",
      "  warnings.warn(msg, FutureWarning)\n"
     ]
    },
    {
     "data": {
      "text/plain": [
       "<AxesSubplot:xlabel='pct_black', ylabel='Density'>"
      ]
     },
     "execution_count": 27,
     "metadata": {},
     "output_type": "execute_result"
    },
    {
     "data": {
      "image/png": "[encoded data removed]",
      "text/plain": [
       "<Figure size 432x288 with 1 Axes>"
      ]
     },
     "metadata": {
      "needs_background": "light"
     },
     "output_type": "display_data"
    }
   ],
   "source": [
    "df['pct_black'].isnull().sum()\n",
    "sns.distplot(df['pct_black'])"
   ]
  },
  {
   "cell_type": "code",
   "execution_count": 28,
   "id": "3d804d0d",
   "metadata": {},
   "outputs": [
    {
     "data": {
      "text/plain": [
       "0"
      ]
     },
     "execution_count": 28,
     "metadata": {},
     "output_type": "execute_result"
    }
   ],
   "source": [
    "df['pct_black']= df['pct_black'].fillna(df['pct_black'].mean())\n",
    "df['pct_black'].isnull().sum()"
   ]
  },
  {
   "cell_type": "code",
   "execution_count": 29,
   "id": "ab6f5eab",
   "metadata": {},
   "outputs": [
    {
     "data": {
      "text/plain": [
       "1.8152645131729424"
      ]
     },
     "execution_count": 29,
     "metadata": {},
     "output_type": "execute_result"
    }
   ],
   "source": [
    "df['pct_black'].skew()"
   ]
  },
  {
   "cell_type": "code",
   "execution_count": 30,
   "id": "2413fe76",
   "metadata": {},
   "outputs": [
    {
     "data": {
      "text/plain": [
       "0.6310460871594203"
      ]
     },
     "execution_count": 30,
     "metadata": {},
     "output_type": "execute_result"
    }
   ],
   "source": [
    "df['pct_black']=np.sqrt(df[['pct_black']])\n",
    "df['pct_black'].skew()"
   ]
  },
  {
   "cell_type": "code",
   "execution_count": 31,
   "id": "fe9a9ee9",
   "metadata": {},
   "outputs": [
    {
     "name": "stderr",
     "output_type": "stream",
     "text": [
      "E:\\Anaconda\\lib\\site-packages\\seaborn\\distributions.py:2557: FutureWarning: `distplot` is a deprecated function and will be removed in a future version. Please adapt your code to use either `displot` (a figure-level function with similar flexibility) or `histplot` (an axes-level function for histograms).\n",
      "  warnings.warn(msg, FutureWarning)\n"
     ]
    },
    {
     "data": {
      "text/plain": [
       "<AxesSubplot:xlabel='pct_black', ylabel='Density'>"
      ]
     },
     "execution_count": 31,
     "metadata": {},
     "output_type": "execute_result"
    },
    {
     "data": {
      "image/png": "[encoded data removed]",
      "text/plain": [
       "<Figure size 432x288 with 1 Axes>"
      ]
     },
     "metadata": {
      "needs_background": "light"
     },
     "output_type": "display_data"
    }
   ],
   "source": [
    "sns.distplot(df['pct_black'])"
   ]
  },
  {
   "cell_type": "markdown",
   "id": "fbdc495a",
   "metadata": {},
   "source": [
    "## df['reduced']"
   ]
  },
  {
   "cell_type": "code",
   "execution_count": 32,
   "id": "885ba694",
   "metadata": {},
   "outputs": [
    {
     "name": "stderr",
     "output_type": "stream",
     "text": [
      "E:\\Anaconda\\lib\\site-packages\\seaborn\\distributions.py:2557: FutureWarning: `distplot` is a deprecated function and will be removed in a future version. Please adapt your code to use either `displot` (a figure-level function with similar flexibility) or `histplot` (an axes-level function for histograms).\n",
      "  warnings.warn(msg, FutureWarning)\n"
     ]
    },
    {
     "data": {
      "text/plain": [
       "<AxesSubplot:xlabel='reduced', ylabel='Density'>"
      ]
     },
     "execution_count": 32,
     "metadata": {},
     "output_type": "execute_result"
    },
    {
     "data": {
      "image/png": "[encoded data removed]",
      "text/plain": [
       "<Figure size 432x288 with 1 Axes>"
      ]
     },
     "metadata": {
      "needs_background": "light"
     },
     "output_type": "display_data"
    }
   ],
   "source": [
    "sns.distplot(df['reduced'])"
   ]
  },
  {
   "cell_type": "code",
   "execution_count": 33,
   "id": "e3a1945f",
   "metadata": {},
   "outputs": [
    {
     "data": {
      "text/plain": [
       "85"
      ]
     },
     "execution_count": 33,
     "metadata": {},
     "output_type": "execute_result"
    }
   ],
   "source": [
    "df['reduced'].isnull().sum()"
   ]
  },
  {
   "cell_type": "code",
   "execution_count": 34,
   "id": "9f43cdc7",
   "metadata": {},
   "outputs": [
    {
     "data": {
      "text/plain": [
       "0"
      ]
     },
     "execution_count": 34,
     "metadata": {},
     "output_type": "execute_result"
    }
   ],
   "source": [
    "df['reduced']=df['reduced'].fillna(df['reduced'].mean())\n",
    "df['reduced'].isnull().sum()"
   ]
  },
  {
   "cell_type": "code",
   "execution_count": 35,
   "id": "26a12975",
   "metadata": {},
   "outputs": [
    {
     "data": {
      "text/plain": [
       "<AxesSubplot:>"
      ]
     },
     "execution_count": 35,
     "metadata": {},
     "output_type": "execute_result"
    },
    {
     "data": {
      "image/png": "[encoded data removed]",
      "text/plain": [
       "<Figure size 432x288 with 1 Axes>"
      ]
     },
     "metadata": {
      "needs_background": "light"
     },
     "output_type": "display_data"
    }
   ],
   "source": [
    "df.boxplot(column='reduced')"
   ]
  },
  {
   "cell_type": "code",
   "execution_count": 36,
   "id": "6b1fe35b",
   "metadata": {},
   "outputs": [],
   "source": [
    "def remove_outlier(col):\n",
    "    sorted(col)\n",
    "    q1,q3=col.quantile([0.25,0.75])\n",
    "    IQR=q3-q1\n",
    "    lower = q1 - (1.5*IQR)\n",
    "    upper = q3 + (1.5*IQR)\n",
    "    return lower,upper"
   ]
  },
  {
   "cell_type": "code",
   "execution_count": 37,
   "id": "e6d50abb",
   "metadata": {},
   "outputs": [],
   "source": [
    "lower,upper = remove_outlier(df['reduced'])\n",
    "df['reduced']=np.where(df['reduced']>upper,upper,df['reduced'])\n",
    "df['reduced']=np.where(df['reduced']<lower,lower,df['reduced'])"
   ]
  },
  {
   "cell_type": "code",
   "execution_count": 38,
   "id": "8cb6121f",
   "metadata": {},
   "outputs": [
    {
     "data": {
      "text/plain": [
       "<AxesSubplot:>"
      ]
     },
     "execution_count": 38,
     "metadata": {},
     "output_type": "execute_result"
    },
    {
     "data": {
      "image/png": "[encoded data removed]",
      "text/plain": [
       "<Figure size 432x288 with 1 Axes>"
      ]
     },
     "metadata": {
      "needs_background": "light"
     },
     "output_type": "display_data"
    }
   ],
   "source": [
    "df.boxplot(column='reduced')"
   ]
  },
  {
   "cell_type": "markdown",
   "id": "1b3a695c",
   "metadata": {},
   "source": [
    "### df['pct_free']"
   ]
  },
  {
   "cell_type": "code",
   "execution_count": 39,
   "id": "c86bb0be",
   "metadata": {},
   "outputs": [
    {
     "data": {
      "text/plain": [
       "85"
      ]
     },
     "execution_count": 39,
     "metadata": {},
     "output_type": "execute_result"
    }
   ],
   "source": [
    "df['pct_free'].isnull().sum()"
   ]
  },
  {
   "cell_type": "code",
   "execution_count": 40,
   "id": "cba42cd9",
   "metadata": {},
   "outputs": [
    {
     "name": "stderr",
     "output_type": "stream",
     "text": [
      "E:\\Anaconda\\lib\\site-packages\\seaborn\\distributions.py:2557: FutureWarning: `distplot` is a deprecated function and will be removed in a future version. Please adapt your code to use either `displot` (a figure-level function with similar flexibility) or `histplot` (an axes-level function for histograms).\n",
      "  warnings.warn(msg, FutureWarning)\n"
     ]
    },
    {
     "data": {
      "text/plain": [
       "<AxesSubplot:xlabel='pct_free', ylabel='Density'>"
      ]
     },
     "execution_count": 40,
     "metadata": {},
     "output_type": "execute_result"
    },
    {
     "data": {
      "image/png": "[encoded data removed]",
      "text/plain": [
       "<Figure size 432x288 with 1 Axes>"
      ]
     },
     "metadata": {
      "needs_background": "light"
     },
     "output_type": "display_data"
    }
   ],
   "source": [
    "sns.distplot(df['pct_free'])"
   ]
  },
  {
   "cell_type": "code",
   "execution_count": 41,
   "id": "554f8fe3",
   "metadata": {},
   "outputs": [],
   "source": [
    "df['pct_free']=df['pct_free'].fillna(df['pct_free'].mean())"
   ]
  },
  {
   "cell_type": "code",
   "execution_count": 42,
   "id": "66906d22",
   "metadata": {},
   "outputs": [
    {
     "data": {
      "text/plain": [
       "0.7568043178867595"
      ]
     },
     "execution_count": 42,
     "metadata": {},
     "output_type": "execute_result"
    }
   ],
   "source": [
    "df['pct_free'].skew()"
   ]
  },
  {
   "cell_type": "code",
   "execution_count": 43,
   "id": "28d514df",
   "metadata": {},
   "outputs": [
    {
     "data": {
      "text/plain": [
       "<AxesSubplot:>"
      ]
     },
     "execution_count": 43,
     "metadata": {},
     "output_type": "execute_result"
    },
    {
     "data": {
      "image/png": "[encoded data removed]",
      "text/plain": [
       "<Figure size 432x288 with 1 Axes>"
      ]
     },
     "metadata": {
      "needs_background": "light"
     },
     "output_type": "display_data"
    }
   ],
   "source": [
    "df.boxplot(column='pct_free')"
   ]
  },
  {
   "cell_type": "markdown",
   "id": "d378634d",
   "metadata": {},
   "source": [
    "### df['Country1']"
   ]
  },
  {
   "cell_type": "code",
   "execution_count": 44,
   "id": "eb9bef56",
   "metadata": {},
   "outputs": [
    {
     "data": {
      "text/plain": [
       "71"
      ]
     },
     "execution_count": 44,
     "metadata": {},
     "output_type": "execute_result"
    }
   ],
   "source": [
    "df['Country1'].isnull().sum()"
   ]
  },
  {
   "cell_type": "code",
   "execution_count": 45,
   "id": "d370e9a7",
   "metadata": {},
   "outputs": [
    {
     "name": "stderr",
     "output_type": "stream",
     "text": [
      "E:\\Anaconda\\lib\\site-packages\\seaborn\\distributions.py:2557: FutureWarning: `distplot` is a deprecated function and will be removed in a future version. Please adapt your code to use either `displot` (a figure-level function with similar flexibility) or `histplot` (an axes-level function for histograms).\n",
      "  warnings.warn(msg, FutureWarning)\n"
     ]
    },
    {
     "data": {
      "text/plain": [
       "<AxesSubplot:xlabel='Country1', ylabel='Density'>"
      ]
     },
     "execution_count": 45,
     "metadata": {},
     "output_type": "execute_result"
    },
    {
     "data": {
      "image/png": "[encoded data removed]",
      "text/plain": [
       "<Figure size 432x288 with 1 Axes>"
      ]
     },
     "metadata": {
      "needs_background": "light"
     },
     "output_type": "display_data"
    }
   ],
   "source": [
    "sns.distplot(df['Country1'])"
   ]
  },
  {
   "cell_type": "code",
   "execution_count": 46,
   "id": "26e7b9f9",
   "metadata": {},
   "outputs": [
    {
     "data": {
      "text/plain": [
       "0"
      ]
     },
     "execution_count": 46,
     "metadata": {},
     "output_type": "execute_result"
    }
   ],
   "source": [
    "df['Country1']=df['Country1'].fillna(df['Country1'].mean())\n",
    "df['Country1'].isnull().sum()"
   ]
  },
  {
   "cell_type": "code",
   "execution_count": 47,
   "id": "7d3594b8",
   "metadata": {},
   "outputs": [
    {
     "data": {
      "text/plain": [
       "15.220799703687717"
      ]
     },
     "execution_count": 47,
     "metadata": {},
     "output_type": "execute_result"
    }
   ],
   "source": [
    "df['Country1'].skew()"
   ]
  },
  {
   "cell_type": "code",
   "execution_count": 48,
   "id": "c33cb09a",
   "metadata": {},
   "outputs": [
    {
     "data": {
      "text/plain": [
       "1.0248936315920905"
      ]
     },
     "execution_count": 48,
     "metadata": {},
     "output_type": "execute_result"
    }
   ],
   "source": [
    "from scipy import stats\n",
    "norm1=stats.boxcox(df['Country1'])[0]\n",
    "pd.Series(norm1).skew()"
   ]
  },
  {
   "cell_type": "code",
   "execution_count": 49,
   "id": "aad8b64d",
   "metadata": {},
   "outputs": [],
   "source": [
    "df['Country1']=stats.boxcox(df['Country1'])[0]"
   ]
  },
  {
   "cell_type": "code",
   "execution_count": 50,
   "id": "058614cb",
   "metadata": {},
   "outputs": [
    {
     "data": {
      "text/plain": [
       "<AxesSubplot:>"
      ]
     },
     "execution_count": 50,
     "metadata": {},
     "output_type": "execute_result"
    },
    {
     "data": {
      "image/png": "[encoded data removed]",
      "text/plain": [
       "<Figure size 432x288 with 1 Axes>"
      ]
     },
     "metadata": {
      "needs_background": "light"
     },
     "output_type": "display_data"
    }
   ],
   "source": [
    "df.boxplot(column='Country1')"
   ]
  },
  {
   "cell_type": "markdown",
   "id": "3b615683",
   "metadata": {},
   "source": [
    "### df['Country2']"
   ]
  },
  {
   "cell_type": "code",
   "execution_count": 51,
   "id": "1a021ffb",
   "metadata": {},
   "outputs": [
    {
     "name": "stderr",
     "output_type": "stream",
     "text": [
      "E:\\Anaconda\\lib\\site-packages\\seaborn\\distributions.py:2557: FutureWarning: `distplot` is a deprecated function and will be removed in a future version. Please adapt your code to use either `displot` (a figure-level function with similar flexibility) or `histplot` (an axes-level function for histograms).\n",
      "  warnings.warn(msg, FutureWarning)\n"
     ]
    },
    {
     "data": {
      "text/plain": [
       "<AxesSubplot:xlabel='Country2', ylabel='Density'>"
      ]
     },
     "execution_count": 51,
     "metadata": {},
     "output_type": "execute_result"
    },
    {
     "data": {
      "image/png": "[encoded data removed]",
      "text/plain": [
       "<Figure size 432x288 with 1 Axes>"
      ]
     },
     "metadata": {
      "needs_background": "light"
     },
     "output_type": "display_data"
    }
   ],
   "source": [
    "sns.distplot(df['Country2'])"
   ]
  },
  {
   "cell_type": "code",
   "execution_count": 52,
   "id": "0131ceae",
   "metadata": {},
   "outputs": [
    {
     "data": {
      "text/plain": [
       "71"
      ]
     },
     "execution_count": 52,
     "metadata": {},
     "output_type": "execute_result"
    }
   ],
   "source": [
    "df['Country2'].isnull().sum()"
   ]
  },
  {
   "cell_type": "code",
   "execution_count": 53,
   "id": "64e44f44",
   "metadata": {},
   "outputs": [
    {
     "data": {
      "text/plain": [
       "0"
      ]
     },
     "execution_count": 53,
     "metadata": {},
     "output_type": "execute_result"
    }
   ],
   "source": [
    "df['Country2'] = df['Country2'].fillna(df['Country2'].mean())\n",
    "df['Country2'].isnull().sum()"
   ]
  },
  {
   "cell_type": "code",
   "execution_count": 54,
   "id": "7b7deb05",
   "metadata": {},
   "outputs": [
    {
     "data": {
      "text/plain": [
       "15.220799703687696"
      ]
     },
     "execution_count": 54,
     "metadata": {},
     "output_type": "execute_result"
    }
   ],
   "source": [
    "df['Country2'].skew()"
   ]
  },
  {
   "cell_type": "code",
   "execution_count": 55,
   "id": "63eb9270",
   "metadata": {},
   "outputs": [
    {
     "data": {
      "text/plain": [
       "1.391328142593772"
      ]
     },
     "execution_count": 55,
     "metadata": {},
     "output_type": "execute_result"
    }
   ],
   "source": [
    "from scipy import stats\n",
    "norm2=stats.boxcox(df['Country2'])[0]\n",
    "pd.Series(norm2).skew()"
   ]
  },
  {
   "cell_type": "code",
   "execution_count": 56,
   "id": "27979fff",
   "metadata": {},
   "outputs": [],
   "source": [
    "df['Country2'] = stats.boxcox(df['Country2'])[0]"
   ]
  },
  {
   "cell_type": "code",
   "execution_count": 57,
   "id": "87df49e9",
   "metadata": {},
   "outputs": [
    {
     "data": {
      "text/plain": [
       "<AxesSubplot:>"
      ]
     },
     "execution_count": 57,
     "metadata": {},
     "output_type": "execute_result"
    },
    {
     "data": {
      "image/png": "[encoded data removed]",
      "text/plain": [
       "<Figure size 432x288 with 1 Axes>"
      ]
     },
     "metadata": {
      "needs_background": "light"
     },
     "output_type": "display_data"
    }
   ],
   "source": [
    "df.boxplot(column='Country2')"
   ]
  },
  {
   "cell_type": "code",
   "execution_count": 58,
   "id": "402602a1",
   "metadata": {},
   "outputs": [
    {
     "data": {
      "text/plain": [
       "<AxesSubplot:>"
      ]
     },
     "execution_count": 58,
     "metadata": {},
     "output_type": "execute_result"
    },
    {
     "data": {
      "image/png": "[encoded data removed]",
      "text/plain": [
       "<Figure size 432x288 with 1 Axes>"
      ]
     },
     "metadata": {
      "needs_background": "light"
     },
     "output_type": "display_data"
    }
   ],
   "source": [
    "lower,upper = remove_outlier(df['Country2'])\n",
    "df['Country2']=np.where(df['Country2']>upper,upper,df['Country2'])\n",
    "df.boxplot(column='Country2')"
   ]
  },
  {
   "cell_type": "markdown",
   "id": "cce8a019",
   "metadata": {},
   "source": [
    "### df['local_exp']"
   ]
  },
  {
   "cell_type": "code",
   "execution_count": 59,
   "id": "f9d6e5fe",
   "metadata": {},
   "outputs": [
    {
     "name": "stderr",
     "output_type": "stream",
     "text": [
      "E:\\Anaconda\\lib\\site-packages\\seaborn\\distributions.py:2557: FutureWarning: `distplot` is a deprecated function and will be removed in a future version. Please adapt your code to use either `displot` (a figure-level function with similar flexibility) or `histplot` (an axes-level function for histograms).\n",
      "  warnings.warn(msg, FutureWarning)\n"
     ]
    },
    {
     "data": {
      "text/plain": [
       "<AxesSubplot:xlabel='local_exp', ylabel='Density'>"
      ]
     },
     "execution_count": 59,
     "metadata": {},
     "output_type": "execute_result"
    },
    {
     "data": {
      "image/png": "[encoded data removed]",
      "text/plain": [
       "<Figure size 432x288 with 1 Axes>"
      ]
     },
     "metadata": {
      "needs_background": "light"
     },
     "output_type": "display_data"
    }
   ],
   "source": [
    "sns.distplot(df['local_exp'])"
   ]
  },
  {
   "cell_type": "code",
   "execution_count": 60,
   "id": "dcb7de0a",
   "metadata": {},
   "outputs": [
    {
     "data": {
      "text/plain": [
       "115"
      ]
     },
     "execution_count": 60,
     "metadata": {},
     "output_type": "execute_result"
    }
   ],
   "source": [
    "df['local_exp'].isnull().sum()"
   ]
  },
  {
   "cell_type": "code",
   "execution_count": 61,
   "id": "19f21cb4",
   "metadata": {},
   "outputs": [
    {
     "data": {
      "text/plain": [
       "0"
      ]
     },
     "execution_count": 61,
     "metadata": {},
     "output_type": "execute_result"
    }
   ],
   "source": [
    "df['local_exp']= df['local_exp'].fillna(df['local_exp'].mean())\n",
    "df['local_exp'].isnull().sum()"
   ]
  },
  {
   "cell_type": "code",
   "execution_count": 62,
   "id": "d86ac88f",
   "metadata": {},
   "outputs": [
    {
     "data": {
      "text/plain": [
       "1.521274177619339"
      ]
     },
     "execution_count": 62,
     "metadata": {},
     "output_type": "execute_result"
    }
   ],
   "source": [
    "df['local_exp'].skew()"
   ]
  },
  {
   "cell_type": "code",
   "execution_count": 63,
   "id": "331e0667",
   "metadata": {},
   "outputs": [
    {
     "data": {
      "text/plain": [
       "-0.4170396865514301"
      ]
     },
     "execution_count": 63,
     "metadata": {},
     "output_type": "execute_result"
    }
   ],
   "source": [
    "df['local_exp'] = np.log(df['local_exp'])\n",
    "df['local_exp'].skew()"
   ]
  },
  {
   "cell_type": "code",
   "execution_count": 64,
   "id": "b98b04c2",
   "metadata": {},
   "outputs": [
    {
     "data": {
      "text/plain": [
       "<AxesSubplot:>"
      ]
     },
     "execution_count": 64,
     "metadata": {},
     "output_type": "execute_result"
    },
    {
     "data": {
      "image/png": "[encoded data removed]",
      "text/plain": [
       "<Figure size 432x288 with 1 Axes>"
      ]
     },
     "metadata": {
      "needs_background": "light"
     },
     "output_type": "display_data"
    }
   ],
   "source": [
    "df.boxplot(column='local_exp')"
   ]
  },
  {
   "cell_type": "code",
   "execution_count": 65,
   "id": "3eddd9fa",
   "metadata": {},
   "outputs": [
    {
     "data": {
      "text/plain": [
       "<AxesSubplot:>"
      ]
     },
     "execution_count": 65,
     "metadata": {},
     "output_type": "execute_result"
    },
    {
     "data": {
      "image/png": "[encoded data removed]",
      "text/plain": [
       "<Figure size 432x288 with 1 Axes>"
      ]
     },
     "metadata": {
      "needs_background": "light"
     },
     "output_type": "display_data"
    }
   ],
   "source": [
    "lower,upper = remove_outlier(df['local_exp'])\n",
    "df['local_exp']=np.where(df['local_exp']>upper,upper,df['local_exp'])\n",
    "df['local_exp']=np.where(df['local_exp']<lower,lower,df['local_exp'])\n",
    "df.boxplot(column='local_exp')"
   ]
  },
  {
   "cell_type": "markdown",
   "id": "c8d1162e",
   "metadata": {},
   "source": [
    "### df['federal_exp']"
   ]
  },
  {
   "cell_type": "code",
   "execution_count": 66,
   "id": "9eda4fa0",
   "metadata": {},
   "outputs": [
    {
     "name": "stderr",
     "output_type": "stream",
     "text": [
      "E:\\Anaconda\\lib\\site-packages\\seaborn\\distributions.py:2557: FutureWarning: `distplot` is a deprecated function and will be removed in a future version. Please adapt your code to use either `displot` (a figure-level function with similar flexibility) or `histplot` (an axes-level function for histograms).\n",
      "  warnings.warn(msg, FutureWarning)\n"
     ]
    },
    {
     "data": {
      "text/plain": [
       "<AxesSubplot:xlabel='federal_exp', ylabel='Density'>"
      ]
     },
     "execution_count": 66,
     "metadata": {},
     "output_type": "execute_result"
    },
    {
     "data": {
      "image/png": "[encoded data removed]",
      "text/plain": [
       "<Figure size 432x288 with 1 Axes>"
      ]
     },
     "metadata": {
      "needs_background": "light"
     },
     "output_type": "display_data"
    }
   ],
   "source": [
    "sns.distplot(df['federal_exp'])"
   ]
  },
  {
   "cell_type": "code",
   "execution_count": 67,
   "id": "1ce7a587",
   "metadata": {},
   "outputs": [
    {
     "data": {
      "text/plain": [
       "115"
      ]
     },
     "execution_count": 67,
     "metadata": {},
     "output_type": "execute_result"
    }
   ],
   "source": [
    "df['federal_exp'].isnull().sum()"
   ]
  },
  {
   "cell_type": "code",
   "execution_count": 68,
   "id": "a3a43ab1",
   "metadata": {},
   "outputs": [
    {
     "data": {
      "text/plain": [
       "0"
      ]
     },
     "execution_count": 68,
     "metadata": {},
     "output_type": "execute_result"
    }
   ],
   "source": [
    "df['federal_exp']=df['federal_exp'].fillna(df['federal_exp'].mean())\n",
    "df['federal_exp'].isnull().sum()"
   ]
  },
  {
   "cell_type": "code",
   "execution_count": 69,
   "id": "f7b4615a",
   "metadata": {},
   "outputs": [
    {
     "data": {
      "text/plain": [
       "1.521274177619339"
      ]
     },
     "execution_count": 69,
     "metadata": {},
     "output_type": "execute_result"
    }
   ],
   "source": [
    "df['federal_exp'].skew()"
   ]
  },
  {
   "cell_type": "code",
   "execution_count": 70,
   "id": "150de9fe",
   "metadata": {},
   "outputs": [
    {
     "data": {
      "text/plain": [
       "-0.1537047755278455"
      ]
     },
     "execution_count": 70,
     "metadata": {},
     "output_type": "execute_result"
    }
   ],
   "source": [
    "df['federal_exp'] = np.log(df['federal_exp'])\n",
    "df['federal_exp'].skew()"
   ]
  },
  {
   "cell_type": "code",
   "execution_count": 71,
   "id": "eaa66ee8",
   "metadata": {},
   "outputs": [
    {
     "data": {
      "text/plain": [
       "<AxesSubplot:>"
      ]
     },
     "execution_count": 71,
     "metadata": {},
     "output_type": "execute_result"
    },
    {
     "data": {
      "image/png": "[encoded data removed]",
      "text/plain": [
       "<Figure size 432x288 with 1 Axes>"
      ]
     },
     "metadata": {
      "needs_background": "light"
     },
     "output_type": "display_data"
    }
   ],
   "source": [
    "df.boxplot(column='federal_exp')"
   ]
  },
  {
   "cell_type": "code",
   "execution_count": 72,
   "id": "3c823b1d",
   "metadata": {},
   "outputs": [
    {
     "data": {
      "text/plain": [
       "<AxesSubplot:>"
      ]
     },
     "execution_count": 72,
     "metadata": {},
     "output_type": "execute_result"
    },
    {
     "data": {
      "image/png": "[encoded data removed]",
      "text/plain": [
       "<Figure size 432x288 with 1 Axes>"
      ]
     },
     "metadata": {
      "needs_background": "light"
     },
     "output_type": "display_data"
    }
   ],
   "source": [
    "lower,upper = remove_outlier(df['federal_exp'])\n",
    "df['federal_exp']=np.where(df['federal_exp']>upper,upper,df['federal_exp'])\n",
    "df['federal_exp']=np.where(df['federal_exp']<lower,lower,df['federal_exp'])\n",
    "df.boxplot(column='federal_exp')"
   ]
  },
  {
   "cell_type": "code",
   "execution_count": 73,
   "id": "ee31d93c",
   "metadata": {},
   "outputs": [
    {
     "data": {
      "text/plain": [
       "<seaborn.axisgrid.PairGrid at 0x22b7cadbfa0>"
      ]
     },
     "execution_count": 73,
     "metadata": {},
     "output_type": "execute_result"
    },
    {
     "data": {
      "image/png": "[encoded data removed]",
      "text/plain": [
       "<Figure size 1620x1620 with 90 Axes>"
      ]
     },
     "metadata": {
      "needs_background": "light"
     },
     "output_type": "display_data"
    }
   ],
   "source": [
    "sns.pairplot(df)"
   ]
  },
  {
   "cell_type": "code",
   "execution_count": 74,
   "id": "e0a19c15",
   "metadata": {},
   "outputs": [
    {
     "data": {
      "text/html": [
       "<div>\n",
       "<style scoped>\n",
       "    .dataframe tbody tr th:only-of-type {\n",
       "        vertical-align: middle;\n",
       "    }\n",
       "\n",
       "    .dataframe tbody tr th {\n",
       "        vertical-align: top;\n",
       "    }\n",
       "\n",
       "    .dataframe thead th {\n",
       "        text-align: right;\n",
       "    }\n",
       "</style>\n",
       "<table border=\"1\" class=\"dataframe\">\n",
       "  <thead>\n",
       "    <tr style=\"text-align: right;\">\n",
       "      <th></th>\n",
       "      <th>LP ID</th>\n",
       "      <th>URL</th>\n",
       "      <th>Product Name</th>\n",
       "      <th>Provider/Company Name</th>\n",
       "      <th>Sector(s)</th>\n",
       "      <th>Primary Essential Function</th>\n",
       "    </tr>\n",
       "  </thead>\n",
       "  <tbody>\n",
       "    <tr>\n",
       "      <th>0</th>\n",
       "      <td>13117</td>\n",
       "      <td>https://www.splashmath.com</td>\n",
       "      <td>SplashLearn</td>\n",
       "      <td>StudyPad Inc.</td>\n",
       "      <td>PreK-12</td>\n",
       "      <td>LC - Digital Learning Platforms</td>\n",
       "    </tr>\n",
       "    <tr>\n",
       "      <th>1</th>\n",
       "      <td>66933</td>\n",
       "      <td>https://abcmouse.com</td>\n",
       "      <td>ABCmouse.com</td>\n",
       "      <td>Age of Learning, Inc</td>\n",
       "      <td>PreK-12</td>\n",
       "      <td>LC - Digital Learning Platforms</td>\n",
       "    </tr>\n",
       "    <tr>\n",
       "      <th>2</th>\n",
       "      <td>50479</td>\n",
       "      <td>https://www.abcya.com</td>\n",
       "      <td>ABCya!</td>\n",
       "      <td>ABCya.com, LLC</td>\n",
       "      <td>PreK-12</td>\n",
       "      <td>LC - Sites, Resources &amp; Reference - Games &amp; Si...</td>\n",
       "    </tr>\n",
       "    <tr>\n",
       "      <th>3</th>\n",
       "      <td>92993</td>\n",
       "      <td>http://www.aleks.com/</td>\n",
       "      <td>ALEKS</td>\n",
       "      <td>McGraw-Hill PreK-12</td>\n",
       "      <td>PreK-12; Higher Ed</td>\n",
       "      <td>LC - Digital Learning Platforms</td>\n",
       "    </tr>\n",
       "    <tr>\n",
       "      <th>4</th>\n",
       "      <td>73104</td>\n",
       "      <td>https://www.achieve3000.com/</td>\n",
       "      <td>Achieve3000</td>\n",
       "      <td>Achieve3000</td>\n",
       "      <td>PreK-12</td>\n",
       "      <td>LC - Digital Learning Platforms</td>\n",
       "    </tr>\n",
       "  </tbody>\n",
       "</table>\n",
       "</div>"
      ],
      "text/plain": [
       "   LP ID                           URL  Product Name  Provider/Company Name  \\\n",
       "0  13117    https://www.splashmath.com   SplashLearn          StudyPad Inc.   \n",
       "1  66933          https://abcmouse.com  ABCmouse.com  Age of Learning, Inc    \n",
       "2  50479         https://www.abcya.com        ABCya!         ABCya.com, LLC   \n",
       "3  92993         http://www.aleks.com/         ALEKS    McGraw-Hill PreK-12   \n",
       "4  73104  https://www.achieve3000.com/   Achieve3000            Achieve3000   \n",
       "\n",
       "            Sector(s)                         Primary Essential Function  \n",
       "0             PreK-12                    LC - Digital Learning Platforms  \n",
       "1             PreK-12                    LC - Digital Learning Platforms  \n",
       "2             PreK-12  LC - Sites, Resources & Reference - Games & Si...  \n",
       "3  PreK-12; Higher Ed                    LC - Digital Learning Platforms  \n",
       "4             PreK-12                    LC - Digital Learning Platforms  "
      ]
     },
     "execution_count": 74,
     "metadata": {},
     "output_type": "execute_result"
    }
   ],
   "source": [
    "df2 = pd.read_csv('products_info.csv')\n",
    "df2.head()"
   ]
  },
  {
   "cell_type": "code",
   "execution_count": 75,
   "id": "179f38b2",
   "metadata": {},
   "outputs": [
    {
     "data": {
      "text/plain": [
       "(372, 6)"
      ]
     },
     "execution_count": 75,
     "metadata": {},
     "output_type": "execute_result"
    }
   ],
   "source": [
    "df2.shape"
   ]
  },
  {
   "cell_type": "code",
   "execution_count": 76,
   "id": "78990496",
   "metadata": {},
   "outputs": [
    {
     "name": "stdout",
     "output_type": "stream",
     "text": [
      "<class 'pandas.core.frame.DataFrame'>\n",
      "RangeIndex: 372 entries, 0 to 371\n",
      "Data columns (total 6 columns):\n",
      " #   Column                      Non-Null Count  Dtype \n",
      "---  ------                      --------------  ----- \n",
      " 0   LP ID                       372 non-null    int64 \n",
      " 1   URL                         372 non-null    object\n",
      " 2   Product Name                372 non-null    object\n",
      " 3   Provider/Company Name       371 non-null    object\n",
      " 4   Sector(s)                   352 non-null    object\n",
      " 5   Primary Essential Function  352 non-null    object\n",
      "dtypes: int64(1), object(5)\n",
      "memory usage: 17.6+ KB\n"
     ]
    }
   ],
   "source": [
    "df2.info()"
   ]
  },
  {
   "cell_type": "code",
   "execution_count": 77,
   "id": "539059a4",
   "metadata": {},
   "outputs": [
    {
     "data": {
      "text/plain": [
       "<AxesSubplot:>"
      ]
     },
     "execution_count": 77,
     "metadata": {},
     "output_type": "execute_result"
    },
    {
     "data": {
      "image/png": "[encoded data removed]",
      "text/plain": [
       "<Figure size 432x288 with 2 Axes>"
      ]
     },
     "metadata": {
      "needs_background": "light"
     },
     "output_type": "display_data"
    }
   ],
   "source": [
    "sns.heatmap(data=df2.isnull())"
   ]
  },
  {
   "cell_type": "code",
   "execution_count": 78,
   "id": "f05228a2",
   "metadata": {},
   "outputs": [
    {
     "data": {
      "text/plain": [
       "LP ID                         0\n",
       "URL                           0\n",
       "Product Name                  0\n",
       "Provider/Company Name         0\n",
       "Sector(s)                     0\n",
       "Primary Essential Function    0\n",
       "dtype: int64"
      ]
     },
     "execution_count": 78,
     "metadata": {},
     "output_type": "execute_result"
    }
   ],
   "source": [
    "df2.dropna(inplace=True)\n",
    "df2.isnull().sum()"
   ]
  },
  {
   "cell_type": "code",
   "execution_count": 79,
   "id": "1c6d2908",
   "metadata": {},
   "outputs": [
    {
     "data": {
      "text/plain": [
       "<AxesSubplot:>"
      ]
     },
     "execution_count": 79,
     "metadata": {},
     "output_type": "execute_result"
    },
    {
     "data": {
      "image/png": "[encoded data removed]",
      "text/plain": [
       "<Figure size 432x288 with 2 Axes>"
      ]
     },
     "metadata": {
      "needs_background": "light"
     },
     "output_type": "display_data"
    }
   ],
   "source": [
    "sns.heatmap(df.corr(),annot=True)"
   ]
  },
  {
   "cell_type": "code",
   "execution_count": 80,
   "id": "86d90f72",
   "metadata": {},
   "outputs": [
    {
     "data": {
      "text/html": [
       "<div>\n",
       "<style scoped>\n",
       "    .dataframe tbody tr th:only-of-type {\n",
       "        vertical-align: middle;\n",
       "    }\n",
       "\n",
       "    .dataframe tbody tr th {\n",
       "        vertical-align: top;\n",
       "    }\n",
       "\n",
       "    .dataframe thead th {\n",
       "        text-align: right;\n",
       "    }\n",
       "</style>\n",
       "<table border=\"1\" class=\"dataframe\">\n",
       "  <thead>\n",
       "    <tr style=\"text-align: right;\">\n",
       "      <th></th>\n",
       "      <th>pct_black</th>\n",
       "      <th>hispanic</th>\n",
       "      <th>pct_free</th>\n",
       "      <th>reduced</th>\n",
       "      <th>Country1</th>\n",
       "      <th>Country2</th>\n",
       "      <th>local_exp</th>\n",
       "      <th>federal_exp</th>\n",
       "    </tr>\n",
       "    <tr>\n",
       "      <th>state</th>\n",
       "      <th></th>\n",
       "      <th></th>\n",
       "      <th></th>\n",
       "      <th></th>\n",
       "      <th></th>\n",
       "      <th></th>\n",
       "      <th></th>\n",
       "      <th></th>\n",
       "    </tr>\n",
       "  </thead>\n",
       "  <tbody>\n",
       "    <tr>\n",
       "      <th>0</th>\n",
       "      <td>0.894427</td>\n",
       "      <td>0.000000</td>\n",
       "      <td>0.239189</td>\n",
       "      <td>0.439189</td>\n",
       "      <td>-5.885817e+13</td>\n",
       "      <td>0.000000</td>\n",
       "      <td>9.347889</td>\n",
       "      <td>9.508560</td>\n",
       "    </tr>\n",
       "    <tr>\n",
       "      <th>1</th>\n",
       "      <td>0.632456</td>\n",
       "      <td>-0.510826</td>\n",
       "      <td>0.200000</td>\n",
       "      <td>0.400000</td>\n",
       "      <td>-5.885817e+13</td>\n",
       "      <td>0.000000</td>\n",
       "      <td>9.347889</td>\n",
       "      <td>9.508560</td>\n",
       "    </tr>\n",
       "    <tr>\n",
       "      <th>2</th>\n",
       "      <td>0.000000</td>\n",
       "      <td>-1.609438</td>\n",
       "      <td>0.000000</td>\n",
       "      <td>0.341216</td>\n",
       "      <td>-5.885817e+13</td>\n",
       "      <td>0.000000</td>\n",
       "      <td>9.347889</td>\n",
       "      <td>9.508560</td>\n",
       "    </tr>\n",
       "    <tr>\n",
       "      <th>3</th>\n",
       "      <td>0.894427</td>\n",
       "      <td>0.000000</td>\n",
       "      <td>0.239189</td>\n",
       "      <td>0.439189</td>\n",
       "      <td>-5.885817e+13</td>\n",
       "      <td>0.000000</td>\n",
       "      <td>9.554212</td>\n",
       "      <td>9.682407</td>\n",
       "    </tr>\n",
       "    <tr>\n",
       "      <th>4</th>\n",
       "      <td>0.632456</td>\n",
       "      <td>-0.510826</td>\n",
       "      <td>0.400000</td>\n",
       "      <td>0.497973</td>\n",
       "      <td>-5.885817e+13</td>\n",
       "      <td>0.000000</td>\n",
       "      <td>9.004017</td>\n",
       "      <td>9.218815</td>\n",
       "    </tr>\n",
       "    <tr>\n",
       "      <th>5</th>\n",
       "      <td>0.000000</td>\n",
       "      <td>-1.609438</td>\n",
       "      <td>0.000000</td>\n",
       "      <td>0.341216</td>\n",
       "      <td>-5.885817e+13</td>\n",
       "      <td>0.000000</td>\n",
       "      <td>9.546813</td>\n",
       "      <td>9.680344</td>\n",
       "    </tr>\n",
       "    <tr>\n",
       "      <th>6</th>\n",
       "      <td>0.894427</td>\n",
       "      <td>0.000000</td>\n",
       "      <td>0.800000</td>\n",
       "      <td>0.497973</td>\n",
       "      <td>-5.885817e+13</td>\n",
       "      <td>0.000000</td>\n",
       "      <td>9.004017</td>\n",
       "      <td>9.218815</td>\n",
       "    </tr>\n",
       "    <tr>\n",
       "      <th>7</th>\n",
       "      <td>0.000000</td>\n",
       "      <td>-1.609438</td>\n",
       "      <td>0.239189</td>\n",
       "      <td>0.439189</td>\n",
       "      <td>-3.357287e+13</td>\n",
       "      <td>0.005100</td>\n",
       "      <td>9.554212</td>\n",
       "      <td>9.682407</td>\n",
       "    </tr>\n",
       "    <tr>\n",
       "      <th>8</th>\n",
       "      <td>0.632456</td>\n",
       "      <td>-0.510826</td>\n",
       "      <td>0.600000</td>\n",
       "      <td>0.497973</td>\n",
       "      <td>-5.885817e+13</td>\n",
       "      <td>0.000000</td>\n",
       "      <td>9.210340</td>\n",
       "      <td>9.392662</td>\n",
       "    </tr>\n",
       "    <tr>\n",
       "      <th>9</th>\n",
       "      <td>0.632456</td>\n",
       "      <td>-0.510826</td>\n",
       "      <td>0.600000</td>\n",
       "      <td>0.497973</td>\n",
       "      <td>-5.885817e+13</td>\n",
       "      <td>0.000000</td>\n",
       "      <td>9.546813</td>\n",
       "      <td>9.680344</td>\n",
       "    </tr>\n",
       "    <tr>\n",
       "      <th>10</th>\n",
       "      <td>0.000000</td>\n",
       "      <td>-1.609438</td>\n",
       "      <td>0.000000</td>\n",
       "      <td>0.341216</td>\n",
       "      <td>-3.357287e+13</td>\n",
       "      <td>0.005100</td>\n",
       "      <td>9.210340</td>\n",
       "      <td>9.392662</td>\n",
       "    </tr>\n",
       "    <tr>\n",
       "      <th>11</th>\n",
       "      <td>0.000000</td>\n",
       "      <td>-1.609438</td>\n",
       "      <td>0.200000</td>\n",
       "      <td>0.400000</td>\n",
       "      <td>-5.885817e+13</td>\n",
       "      <td>0.000000</td>\n",
       "      <td>9.347889</td>\n",
       "      <td>9.508560</td>\n",
       "    </tr>\n",
       "    <tr>\n",
       "      <th>12</th>\n",
       "      <td>0.000000</td>\n",
       "      <td>-1.609438</td>\n",
       "      <td>0.000000</td>\n",
       "      <td>0.341216</td>\n",
       "      <td>-5.885817e+13</td>\n",
       "      <td>0.000000</td>\n",
       "      <td>9.554212</td>\n",
       "      <td>9.682407</td>\n",
       "    </tr>\n",
       "    <tr>\n",
       "      <th>13</th>\n",
       "      <td>0.000000</td>\n",
       "      <td>-1.609438</td>\n",
       "      <td>0.200000</td>\n",
       "      <td>0.400000</td>\n",
       "      <td>-3.357287e+13</td>\n",
       "      <td>0.005100</td>\n",
       "      <td>9.554212</td>\n",
       "      <td>9.682407</td>\n",
       "    </tr>\n",
       "    <tr>\n",
       "      <th>14</th>\n",
       "      <td>0.447214</td>\n",
       "      <td>-0.916291</td>\n",
       "      <td>0.200000</td>\n",
       "      <td>0.400000</td>\n",
       "      <td>-5.885817e+13</td>\n",
       "      <td>0.000000</td>\n",
       "      <td>9.004017</td>\n",
       "      <td>9.218815</td>\n",
       "    </tr>\n",
       "    <tr>\n",
       "      <th>15</th>\n",
       "      <td>0.000000</td>\n",
       "      <td>-1.609438</td>\n",
       "      <td>0.000000</td>\n",
       "      <td>0.341216</td>\n",
       "      <td>0.000000e+00</td>\n",
       "      <td>0.012751</td>\n",
       "      <td>9.347889</td>\n",
       "      <td>9.508560</td>\n",
       "    </tr>\n",
       "    <tr>\n",
       "      <th>16</th>\n",
       "      <td>0.000000</td>\n",
       "      <td>-1.609438</td>\n",
       "      <td>0.000000</td>\n",
       "      <td>0.341216</td>\n",
       "      <td>-3.357287e+13</td>\n",
       "      <td>0.005100</td>\n",
       "      <td>9.347889</td>\n",
       "      <td>9.508560</td>\n",
       "    </tr>\n",
       "    <tr>\n",
       "      <th>17</th>\n",
       "      <td>0.000000</td>\n",
       "      <td>-1.609438</td>\n",
       "      <td>0.239189</td>\n",
       "      <td>0.439189</td>\n",
       "      <td>-5.885817e+13</td>\n",
       "      <td>0.000000</td>\n",
       "      <td>9.004017</td>\n",
       "      <td>9.218815</td>\n",
       "    </tr>\n",
       "    <tr>\n",
       "      <th>18</th>\n",
       "      <td>0.774597</td>\n",
       "      <td>-0.223144</td>\n",
       "      <td>0.400000</td>\n",
       "      <td>0.497973</td>\n",
       "      <td>-5.885817e+13</td>\n",
       "      <td>0.000000</td>\n",
       "      <td>9.004017</td>\n",
       "      <td>9.218815</td>\n",
       "    </tr>\n",
       "    <tr>\n",
       "      <th>19</th>\n",
       "      <td>0.000000</td>\n",
       "      <td>-1.609438</td>\n",
       "      <td>0.200000</td>\n",
       "      <td>0.400000</td>\n",
       "      <td>-5.885817e+13</td>\n",
       "      <td>0.000000</td>\n",
       "      <td>9.004017</td>\n",
       "      <td>9.218815</td>\n",
       "    </tr>\n",
       "    <tr>\n",
       "      <th>20</th>\n",
       "      <td>0.000000</td>\n",
       "      <td>-1.609438</td>\n",
       "      <td>0.200000</td>\n",
       "      <td>0.400000</td>\n",
       "      <td>-5.885817e+13</td>\n",
       "      <td>0.000000</td>\n",
       "      <td>9.210340</td>\n",
       "      <td>9.392662</td>\n",
       "    </tr>\n",
       "    <tr>\n",
       "      <th>21</th>\n",
       "      <td>0.632456</td>\n",
       "      <td>-0.510826</td>\n",
       "      <td>0.400000</td>\n",
       "      <td>0.497973</td>\n",
       "      <td>-5.885817e+13</td>\n",
       "      <td>0.000000</td>\n",
       "      <td>9.392662</td>\n",
       "      <td>9.546813</td>\n",
       "    </tr>\n",
       "    <tr>\n",
       "      <th>22</th>\n",
       "      <td>0.000000</td>\n",
       "      <td>-1.609438</td>\n",
       "      <td>0.000000</td>\n",
       "      <td>0.341216</td>\n",
       "      <td>-5.885817e+13</td>\n",
       "      <td>0.000000</td>\n",
       "      <td>9.210340</td>\n",
       "      <td>9.392662</td>\n",
       "    </tr>\n",
       "    <tr>\n",
       "      <th>23</th>\n",
       "      <td>0.373862</td>\n",
       "      <td>-1.079478</td>\n",
       "      <td>0.239189</td>\n",
       "      <td>0.439189</td>\n",
       "      <td>-3.357287e+13</td>\n",
       "      <td>0.005100</td>\n",
       "      <td>9.347889</td>\n",
       "      <td>9.508560</td>\n",
       "    </tr>\n",
       "  </tbody>\n",
       "</table>\n",
       "</div>"
      ],
      "text/plain": [
       "       pct_black  hispanic  pct_free   reduced      Country1  Country2  \\\n",
       "state                                                                    \n",
       "0       0.894427  0.000000  0.239189  0.439189 -5.885817e+13  0.000000   \n",
       "1       0.632456 -0.510826  0.200000  0.400000 -5.885817e+13  0.000000   \n",
       "2       0.000000 -1.609438  0.000000  0.341216 -5.885817e+13  0.000000   \n",
       "3       0.894427  0.000000  0.239189  0.439189 -5.885817e+13  0.000000   \n",
       "4       0.632456 -0.510826  0.400000  0.497973 -5.885817e+13  0.000000   \n",
       "5       0.000000 -1.609438  0.000000  0.341216 -5.885817e+13  0.000000   \n",
       "6       0.894427  0.000000  0.800000  0.497973 -5.885817e+13  0.000000   \n",
       "7       0.000000 -1.609438  0.239189  0.439189 -3.357287e+13  0.005100   \n",
       "8       0.632456 -0.510826  0.600000  0.497973 -5.885817e+13  0.000000   \n",
       "9       0.632456 -0.510826  0.600000  0.497973 -5.885817e+13  0.000000   \n",
       "10      0.000000 -1.609438  0.000000  0.341216 -3.357287e+13  0.005100   \n",
       "11      0.000000 -1.609438  0.200000  0.400000 -5.885817e+13  0.000000   \n",
       "12      0.000000 -1.609438  0.000000  0.341216 -5.885817e+13  0.000000   \n",
       "13      0.000000 -1.609438  0.200000  0.400000 -3.357287e+13  0.005100   \n",
       "14      0.447214 -0.916291  0.200000  0.400000 -5.885817e+13  0.000000   \n",
       "15      0.000000 -1.609438  0.000000  0.341216  0.000000e+00  0.012751   \n",
       "16      0.000000 -1.609438  0.000000  0.341216 -3.357287e+13  0.005100   \n",
       "17      0.000000 -1.609438  0.239189  0.439189 -5.885817e+13  0.000000   \n",
       "18      0.774597 -0.223144  0.400000  0.497973 -5.885817e+13  0.000000   \n",
       "19      0.000000 -1.609438  0.200000  0.400000 -5.885817e+13  0.000000   \n",
       "20      0.000000 -1.609438  0.200000  0.400000 -5.885817e+13  0.000000   \n",
       "21      0.632456 -0.510826  0.400000  0.497973 -5.885817e+13  0.000000   \n",
       "22      0.000000 -1.609438  0.000000  0.341216 -5.885817e+13  0.000000   \n",
       "23      0.373862 -1.079478  0.239189  0.439189 -3.357287e+13  0.005100   \n",
       "\n",
       "       local_exp  federal_exp  \n",
       "state                          \n",
       "0       9.347889     9.508560  \n",
       "1       9.347889     9.508560  \n",
       "2       9.347889     9.508560  \n",
       "3       9.554212     9.682407  \n",
       "4       9.004017     9.218815  \n",
       "5       9.546813     9.680344  \n",
       "6       9.004017     9.218815  \n",
       "7       9.554212     9.682407  \n",
       "8       9.210340     9.392662  \n",
       "9       9.546813     9.680344  \n",
       "10      9.210340     9.392662  \n",
       "11      9.347889     9.508560  \n",
       "12      9.554212     9.682407  \n",
       "13      9.554212     9.682407  \n",
       "14      9.004017     9.218815  \n",
       "15      9.347889     9.508560  \n",
       "16      9.347889     9.508560  \n",
       "17      9.004017     9.218815  \n",
       "18      9.004017     9.218815  \n",
       "19      9.004017     9.218815  \n",
       "20      9.210340     9.392662  \n",
       "21      9.392662     9.546813  \n",
       "22      9.210340     9.392662  \n",
       "23      9.347889     9.508560  "
      ]
     },
     "execution_count": 80,
     "metadata": {},
     "output_type": "execute_result"
    }
   ],
   "source": [
    "gkk = df.groupby(['state'])  \n",
    "# Print the first value in each group\n",
    "gkk.first()"
   ]
  },
  {
   "cell_type": "code",
   "execution_count": 81,
   "id": "e6040ec1",
   "metadata": {},
   "outputs": [
    {
     "data": {
      "text/plain": [
       "<seaborn.axisgrid.FacetGrid at 0x22b02dd61c0>"
      ]
     },
     "execution_count": 81,
     "metadata": {},
     "output_type": "execute_result"
    },
    {
     "data": {
      "image/png": "[encoded data removed]",
      "text/plain": [
       "<Figure size 957.625x1080 with 24 Axes>"
      ]
     },
     "metadata": {
      "needs_background": "light"
     },
     "output_type": "display_data"
    }
   ],
   "source": [
    "sns.relplot(x=\"Country1\", y=\"state\", hue=\"pct_black\",\n",
    "            col=\"state\", col_wrap=5,\n",
    "            height=3, aspect=.75, linewidth=2.5,\n",
    "            kind=\"line\", data=df)"
   ]
  },
  {
   "cell_type": "code",
   "execution_count": 82,
   "id": "6da5d605",
   "metadata": {},
   "outputs": [
    {
     "data": {
      "text/html": [
       "<div>\n",
       "<style scoped>\n",
       "    .dataframe tbody tr th:only-of-type {\n",
       "        vertical-align: middle;\n",
       "    }\n",
       "\n",
       "    .dataframe tbody tr th {\n",
       "        vertical-align: top;\n",
       "    }\n",
       "\n",
       "    .dataframe thead th {\n",
       "        text-align: right;\n",
       "    }\n",
       "</style>\n",
       "<table border=\"1\" class=\"dataframe\">\n",
       "  <thead>\n",
       "    <tr style=\"text-align: right;\">\n",
       "      <th></th>\n",
       "      <th>state</th>\n",
       "      <th>pct_black</th>\n",
       "      <th>hispanic</th>\n",
       "      <th>pct_free</th>\n",
       "      <th>reduced</th>\n",
       "      <th>Country1</th>\n",
       "      <th>Country2</th>\n",
       "      <th>local_exp</th>\n",
       "      <th>federal_exp</th>\n",
       "      <th>LP ID</th>\n",
       "      <th>URL</th>\n",
       "      <th>Product Name</th>\n",
       "      <th>Provider/Company Name</th>\n",
       "      <th>Sector(s)</th>\n",
       "      <th>Primary Essential Function</th>\n",
       "    </tr>\n",
       "  </thead>\n",
       "  <tbody>\n",
       "    <tr>\n",
       "      <th>0</th>\n",
       "      <td>5.0</td>\n",
       "      <td>0.000000</td>\n",
       "      <td>-1.609438</td>\n",
       "      <td>0.000000</td>\n",
       "      <td>0.341216</td>\n",
       "      <td>-5.885817e+13</td>\n",
       "      <td>0.0000</td>\n",
       "      <td>9.546813</td>\n",
       "      <td>9.680344</td>\n",
       "      <td>13117.0</td>\n",
       "      <td>https://www.splashmath.com</td>\n",
       "      <td>SplashLearn</td>\n",
       "      <td>StudyPad Inc.</td>\n",
       "      <td>PreK-12</td>\n",
       "      <td>LC - Digital Learning Platforms</td>\n",
       "    </tr>\n",
       "    <tr>\n",
       "      <th>1</th>\n",
       "      <td>23.0</td>\n",
       "      <td>0.373862</td>\n",
       "      <td>-1.079478</td>\n",
       "      <td>0.239189</td>\n",
       "      <td>0.439189</td>\n",
       "      <td>-3.357287e+13</td>\n",
       "      <td>0.0051</td>\n",
       "      <td>9.347889</td>\n",
       "      <td>9.508560</td>\n",
       "      <td>66933.0</td>\n",
       "      <td>https://abcmouse.com</td>\n",
       "      <td>ABCmouse.com</td>\n",
       "      <td>Age of Learning, Inc</td>\n",
       "      <td>PreK-12</td>\n",
       "      <td>LC - Digital Learning Platforms</td>\n",
       "    </tr>\n",
       "    <tr>\n",
       "      <th>2</th>\n",
       "      <td>19.0</td>\n",
       "      <td>0.000000</td>\n",
       "      <td>-1.609438</td>\n",
       "      <td>0.200000</td>\n",
       "      <td>0.400000</td>\n",
       "      <td>-5.885817e+13</td>\n",
       "      <td>0.0000</td>\n",
       "      <td>9.004017</td>\n",
       "      <td>9.218815</td>\n",
       "      <td>50479.0</td>\n",
       "      <td>https://www.abcya.com</td>\n",
       "      <td>ABCya!</td>\n",
       "      <td>ABCya.com, LLC</td>\n",
       "      <td>PreK-12</td>\n",
       "      <td>LC - Sites, Resources &amp; Reference - Games &amp; Si...</td>\n",
       "    </tr>\n",
       "    <tr>\n",
       "      <th>3</th>\n",
       "      <td>23.0</td>\n",
       "      <td>0.373862</td>\n",
       "      <td>-1.079478</td>\n",
       "      <td>0.239189</td>\n",
       "      <td>0.439189</td>\n",
       "      <td>-3.357287e+13</td>\n",
       "      <td>0.0051</td>\n",
       "      <td>9.347889</td>\n",
       "      <td>9.508560</td>\n",
       "      <td>92993.0</td>\n",
       "      <td>http://www.aleks.com/</td>\n",
       "      <td>ALEKS</td>\n",
       "      <td>McGraw-Hill PreK-12</td>\n",
       "      <td>PreK-12; Higher Ed</td>\n",
       "      <td>LC - Digital Learning Platforms</td>\n",
       "    </tr>\n",
       "    <tr>\n",
       "      <th>4</th>\n",
       "      <td>23.0</td>\n",
       "      <td>0.373862</td>\n",
       "      <td>-1.079478</td>\n",
       "      <td>0.239189</td>\n",
       "      <td>0.439189</td>\n",
       "      <td>-3.357287e+13</td>\n",
       "      <td>0.0051</td>\n",
       "      <td>9.347889</td>\n",
       "      <td>9.508560</td>\n",
       "      <td>73104.0</td>\n",
       "      <td>https://www.achieve3000.com/</td>\n",
       "      <td>Achieve3000</td>\n",
       "      <td>Achieve3000</td>\n",
       "      <td>PreK-12</td>\n",
       "      <td>LC - Digital Learning Platforms</td>\n",
       "    </tr>\n",
       "  </tbody>\n",
       "</table>\n",
       "</div>"
      ],
      "text/plain": [
       "   state  pct_black  hispanic  pct_free   reduced      Country1  Country2  \\\n",
       "0    5.0   0.000000 -1.609438  0.000000  0.341216 -5.885817e+13    0.0000   \n",
       "1   23.0   0.373862 -1.079478  0.239189  0.439189 -3.357287e+13    0.0051   \n",
       "2   19.0   0.000000 -1.609438  0.200000  0.400000 -5.885817e+13    0.0000   \n",
       "3   23.0   0.373862 -1.079478  0.239189  0.439189 -3.357287e+13    0.0051   \n",
       "4   23.0   0.373862 -1.079478  0.239189  0.439189 -3.357287e+13    0.0051   \n",
       "\n",
       "   local_exp  federal_exp    LP ID                           URL  \\\n",
       "0   9.546813     9.680344  13117.0    https://www.splashmath.com   \n",
       "1   9.347889     9.508560  66933.0          https://abcmouse.com   \n",
       "2   9.004017     9.218815  50479.0         https://www.abcya.com   \n",
       "3   9.347889     9.508560  92993.0         http://www.aleks.com/   \n",
       "4   9.347889     9.508560  73104.0  https://www.achieve3000.com/   \n",
       "\n",
       "   Product Name  Provider/Company Name           Sector(s)  \\\n",
       "0   SplashLearn          StudyPad Inc.             PreK-12   \n",
       "1  ABCmouse.com  Age of Learning, Inc              PreK-12   \n",
       "2        ABCya!         ABCya.com, LLC             PreK-12   \n",
       "3         ALEKS    McGraw-Hill PreK-12  PreK-12; Higher Ed   \n",
       "4   Achieve3000            Achieve3000             PreK-12   \n",
       "\n",
       "                          Primary Essential Function  \n",
       "0                    LC - Digital Learning Platforms  \n",
       "1                    LC - Digital Learning Platforms  \n",
       "2  LC - Sites, Resources & Reference - Games & Si...  \n",
       "3                    LC - Digital Learning Platforms  \n",
       "4                    LC - Digital Learning Platforms  "
      ]
     },
     "execution_count": 82,
     "metadata": {},
     "output_type": "execute_result"
    }
   ],
   "source": [
    "Dataframe_join = pd.concat([df,df2],axis=1)\n",
    "Dataframe_join.head()"
   ]
  },
  {
   "cell_type": "code",
   "execution_count": null,
   "id": "f4b8e2ec",
   "metadata": {},
   "outputs": [],
   "source": []
  }
 ],
 "metadata": {
  "kernelspec": {
   "display_name": "Python 3",
   "language": "python",
   "name": "python3"
  },
  "language_info": {
   "codemirror_mode": {
    "name": "ipython",
    "version": 3
   },
   "file_extension": ".py",
   "mimetype": "text/x-python",
   "name": "python",
   "nbconvert_exporter": "python",
   "pygments_lexer": "ipython3",
   "version": "3.8.8"
  }
 },
 "nbformat": 4,
 "nbformat_minor": 5
}
